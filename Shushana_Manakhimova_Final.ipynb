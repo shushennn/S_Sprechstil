{
 "cells": [
  {
   "cell_type": "markdown",
   "id": "3f965a16",
   "metadata": {},
   "source": [
    "# Angewandte Aspekte der Sprechforschung: Individuelle Sprechstile\n",
    "\n",
    "\n",
    "## *Shushen Manakhimova*\n",
    "\n",
    "## *Professor Burkhardt*\n",
    "\n",
    "#### Sommersemester 2021 01.09.2021"
   ]
  },
  {
   "cell_type": "markdown",
   "id": "e414c149",
   "metadata": {},
   "source": [
    "We begin with downloading all the required modules for the project. Modules are simply files  with Python code (a code library or a set of functions that you need) that can be imported inside another Python Program. \n",
    "\n",
    "You can use any Python source file as a module by executing an import statement in some other Python source file. \n",
    "\n",
    "Step 1 in our code\n",
    "\n",
    "In the project we use the code from Professor Uwe Reichel to extract Midlevel Descriptors "
   ]
  },
  {
   "cell_type": "code",
   "execution_count": 1,
   "id": "israeli-trauma",
   "metadata": {},
   "outputs": [
    {
     "name": "stderr",
     "output_type": "stream",
     "text": [
      "[nltk_data] Downloading package punkt to\n",
      "[nltk_data]     /Users/shushanamanakhimova/nltk_data...\n",
      "[nltk_data]   Package punkt is already up-to-date!\n"
     ]
    }
   ],
   "source": [
    "import sys \n",
    "#sys module provides information about constants, functions and methods. \n",
    "#First, we have to import the sys module in our program before running any functions\n",
    "sys.path.append(\"./mld/src\") #adding a specific path for interpreter to search\n",
    "import midlevel_descriptors as mld #Uwe Reichel Github \n",
    "import opensmile # audio feature extraction and classification of speech and music signals\n",
    "import os # provides functions for interacting with the operating system (individual files)\n",
    "import pandas as pd #module for data analysis toolkit \n",
    "import IPython #interactive shell, we will use it later to play the audio\n",
    "import audiofile as af \n",
    "sys.path.append(\"./text_features\") #adding a path for the interpreter to search \n",
    "import text_features as tf #extracting linguistic features (number of pronouns, etc)\n",
    "import asr as speechrec #used to transcribe speeches\n",
    "asr = speechrec.ASR('eng') #assigning value to a variable, using function ASR"
   ]
  },
  {
   "cell_type": "code",
   "execution_count": 2,
   "id": "db12d61d",
   "metadata": {},
   "outputs": [],
   "source": [
    "df_king = pd.read_pickle('/Users/shushanamanakhimova/S_Sprechstil/segments/Shushana_mdf.pkl') #reading the file provided by our Professor\n",
    "df_king['segmented_file'] = df_king['segmented_file'].apply(lambda x: 'segments/'+os.path.basename(x)) #changing the path\n",
    "df_king = df_king.set_index(df_king.segmented_file) #setting the index\n",
    "df_king = df_king.drop(columns=['segmented_file', 'channel']) #erasing extra information"
   ]
  },
  {
   "cell_type": "code",
   "execution_count": null,
   "id": "703e66c5",
   "metadata": {},
   "outputs": [],
   "source": [
    "df_king.head() #head() function is used to get the first n-rows."
   ]
  },
  {
   "cell_type": "code",
   "execution_count": null,
   "id": "18892473",
   "metadata": {},
   "outputs": [],
   "source": [
    "IPython.display.Audio(df_king.index[3]) #playing the file, choosing a file with an index"
   ]
  },
  {
   "cell_type": "code",
   "execution_count": 3,
   "id": "incomplete-closure",
   "metadata": {},
   "outputs": [
    {
     "name": "stderr",
     "output_type": "stream",
     "text": [
      "\r",
      "  0%|          | 0/77 [00:00<?, ?it/s]"
     ]
    },
    {
     "name": "stdout",
     "output_type": "stream",
     "text": [
      "ASR ...\n"
     ]
    },
    {
     "name": "stderr",
     "output_type": "stream",
     "text": [
      "100%|██████████| 77/77 [01:20<00:00,  1.05s/it]\n"
     ]
    }
   ],
   "source": [
    "fex_mld = mld.MLD() #mld feature extraction\n",
    "df_mld_seqs = fex_mld.extract_from_index(index=df_king, cache_path='./tmp/mld')\n",
    "df_asr = asr.extract_from_index(df_mld_seqs, tmp='./tmp',  margin=0.2)"
   ]
  },
  {
   "cell_type": "code",
   "execution_count": null,
   "id": "supreme-cliff",
   "metadata": {},
   "outputs": [],
   "source": [
    "df_king.shape #shows the number of rows and columns"
   ]
  },
  {
   "cell_type": "code",
   "execution_count": null,
   "id": "linear-narrative",
   "metadata": {},
   "outputs": [],
   "source": [
    "df_mld_seqs.shape #the result is that the speech is quite short (77 segments, 580 rows of features in general)"
   ]
  },
  {
   "cell_type": "code",
   "execution_count": null,
   "id": "oriented-worse",
   "metadata": {
    "scrolled": true
   },
   "outputs": [],
   "source": [
    "df_mld_seqs.head(5) #for every row we have to extract the contents, all of the mld features"
   ]
  },
  {
   "cell_type": "code",
   "execution_count": null,
   "id": "880835e1",
   "metadata": {},
   "outputs": [],
   "source": [
    "#low level descriptors\n",
    "smile_lld = opensmile.Smile(\n",
    "feature_set = opensmile.FeatureSet.GeMAPSv01b,\n",
    "feature_level = opensmile.FeatureLevel.LowLevelDescriptors,\n",
    ")\n",
    "smile_functionals = opensmile.Smile(\n",
    "feature_set = opensmile.FeatureSet.GeMAPSv01b,\n",
    "feature_level = opensmile.FeatureLevel.Functionals,\n",
    ") "
   ]
  },
  {
   "cell_type": "code",
   "execution_count": null,
   "id": "26f67541",
   "metadata": {},
   "outputs": [],
   "source": [
    "lld_df = smile_lld.process_files(df_king.index)\n",
    "print(lld_df.shape)"
   ]
  },
  {
   "cell_type": "code",
   "execution_count": null,
   "id": "4a7522e6",
   "metadata": {},
   "outputs": [],
   "source": [
    "funct_df = smile_functionals.process_files(df_king.index)\n",
    "print(funct_df.shape)"
   ]
  },
  {
   "cell_type": "code",
   "execution_count": null,
   "id": "c7ee7fa0",
   "metadata": {},
   "outputs": [],
   "source": [
    "lld_df.head(3)"
   ]
  },
  {
   "cell_type": "code",
   "execution_count": null,
   "id": "58ed52f9",
   "metadata": {},
   "outputs": [],
   "source": [
    "funct_df.head(3)"
   ]
  },
  {
   "cell_type": "code",
   "execution_count": null,
   "id": "7fd7835f",
   "metadata": {
    "scrolled": true
   },
   "outputs": [],
   "source": [
    "df_mld_seqs.head(5)"
   ]
  },
  {
   "cell_type": "markdown",
   "id": "479d4286",
   "metadata": {},
   "source": [
    "# Text Features\n",
    "\n",
    "In this part of the project we are going to get a transcription of the speech and extract some linguistic features"
   ]
  },
  {
   "cell_type": "code",
   "execution_count": null,
   "id": "b659ea2b",
   "metadata": {},
   "outputs": [],
   "source": [
    "fex = tf.PsyText(language=\"eng\")\n",
    "ling_df = pd.DataFrame()\n",
    "t_all = ''\n",
    "for t in df_asr.asr:\n",
    "    t_all = t_all+' '+t\n",
    "    try:\n",
    "        feat = fex.extract_from_string(t)\n",
    "    except ZeroDivisionError:\n",
    "        feat = pd.DataFrame()\n",
    "    ling_df = ling_df.append(feat)"
   ]
  },
  {
   "cell_type": "code",
   "execution_count": null,
   "id": "a3446d32",
   "metadata": {},
   "outputs": [],
   "source": [
    "import nltk\n",
    "nltk.download('wordnet')"
   ]
  },
  {
   "cell_type": "code",
   "execution_count": null,
   "id": "1568cac0",
   "metadata": {},
   "outputs": [],
   "source": [
    "t_all"
   ]
  },
  {
   "cell_type": "code",
   "execution_count": null,
   "id": "272e3719",
   "metadata": {},
   "outputs": [],
   "source": [
    "ling_df.head()"
   ]
  },
  {
   "cell_type": "markdown",
   "id": "b706a696",
   "metadata": {},
   "source": [
    "# Adding Annotations "
   ]
  },
  {
   "cell_type": "code",
   "execution_count": 4,
   "id": "e77b4479",
   "metadata": {},
   "outputs": [],
   "source": [
    "from enum import Enum, auto #enums are to define unique sets of names and values; they are created using classes\n",
    "class SPEECHTYPE(Enum):\n",
    "    acceptance = auto() \n",
    "    debate = auto() \n",
    "    demonstrative = auto() # workshop or seminar where a speaker was showing \n",
    "    entertaining = auto() # Entertaining speeches aim to amuse a crowd of people\n",
    "    eulogy = auto()\n",
    "    explanatory = auto() # Explanatory speeches describe a situation or particular thing. \n",
    "    farewell = auto()\n",
    "    impromptu = auto()\n",
    "    informative = auto() # Informative speeches aim to educate an audience on a particular topic or message.\n",
    "    interview = auto() \n",
    "    personal = auto()\n",
    "    persuasive = auto()\n",
    "    pitch = auto()\n",
    "    preaching = auto()\n",
    "    oratorical = auto() # is J. F. Kennedy’s inaugural speech.\n",
    "    synthetiac = auto()"
   ]
  },
  {
   "cell_type": "code",
   "execution_count": 5,
   "id": "40feb3cc",
   "metadata": {},
   "outputs": [],
   "source": [
    "class GENDER(Enum):\n",
    "    FEMALE = auto()\n",
    "    MALE = auto()\n",
    "    DIVERS = auto()\n",
    "class SPEAKERTYPE(Enum):\n",
    "    HUMAN = auto()\n",
    "    SYNTH = auto()"
   ]
  },
  {
   "cell_type": "code",
   "execution_count": 6,
   "id": "da45e053",
   "metadata": {},
   "outputs": [],
   "source": [
    "ad ={'id':'martin_luther_king', \n",
    "     'gender':'male', \n",
    "     'speakertype': 'human',\n",
    "     'age': 35, \n",
    "     'speechtype': 'preaching',\n",
    "     'lang':'eng-ENG', \n",
    "     'source':'https://www.npr.org/2010/01/18/122701268/i-have-a-dream-speech-in-its-entirety'}\n",
    "for k in ad:\n",
    "    df_king[k] = ad[k]\n",
    "df_king.to_pickle('Annotations/king.pkl')"
   ]
  },
  {
   "cell_type": "code",
   "execution_count": 7,
   "id": "da8ae867",
   "metadata": {},
   "outputs": [
    {
     "data": {
      "text/html": [
       "<div>\n",
       "<style scoped>\n",
       "    .dataframe tbody tr th:only-of-type {\n",
       "        vertical-align: middle;\n",
       "    }\n",
       "\n",
       "    .dataframe tbody tr th {\n",
       "        vertical-align: top;\n",
       "    }\n",
       "\n",
       "    .dataframe thead th {\n",
       "        text-align: right;\n",
       "    }\n",
       "</style>\n",
       "<table border=\"1\" class=\"dataframe\">\n",
       "  <thead>\n",
       "    <tr style=\"text-align: right;\">\n",
       "      <th></th>\n",
       "      <th>id</th>\n",
       "      <th>gender</th>\n",
       "      <th>speakertype</th>\n",
       "      <th>age</th>\n",
       "      <th>speechtype</th>\n",
       "      <th>lang</th>\n",
       "      <th>source</th>\n",
       "    </tr>\n",
       "    <tr>\n",
       "      <th>segmented_file</th>\n",
       "      <th></th>\n",
       "      <th></th>\n",
       "      <th></th>\n",
       "      <th></th>\n",
       "      <th></th>\n",
       "      <th></th>\n",
       "      <th></th>\n",
       "    </tr>\n",
       "  </thead>\n",
       "  <tbody>\n",
       "    <tr>\n",
       "      <th>segments/MK_Shushana_seg_00000000.wav</th>\n",
       "      <td>martin_luther_king</td>\n",
       "      <td>male</td>\n",
       "      <td>human</td>\n",
       "      <td>35</td>\n",
       "      <td>preaching</td>\n",
       "      <td>eng-ENG</td>\n",
       "      <td>https://www.npr.org/2010/01/18/122701268/i-hav...</td>\n",
       "    </tr>\n",
       "    <tr>\n",
       "      <th>segments/MK_Shushana_seg_00000001.wav</th>\n",
       "      <td>martin_luther_king</td>\n",
       "      <td>male</td>\n",
       "      <td>human</td>\n",
       "      <td>35</td>\n",
       "      <td>preaching</td>\n",
       "      <td>eng-ENG</td>\n",
       "      <td>https://www.npr.org/2010/01/18/122701268/i-hav...</td>\n",
       "    </tr>\n",
       "    <tr>\n",
       "      <th>segments/MK_Shushana_seg_00000002.wav</th>\n",
       "      <td>martin_luther_king</td>\n",
       "      <td>male</td>\n",
       "      <td>human</td>\n",
       "      <td>35</td>\n",
       "      <td>preaching</td>\n",
       "      <td>eng-ENG</td>\n",
       "      <td>https://www.npr.org/2010/01/18/122701268/i-hav...</td>\n",
       "    </tr>\n",
       "    <tr>\n",
       "      <th>segments/MK_Shushana_seg_00000003.wav</th>\n",
       "      <td>martin_luther_king</td>\n",
       "      <td>male</td>\n",
       "      <td>human</td>\n",
       "      <td>35</td>\n",
       "      <td>preaching</td>\n",
       "      <td>eng-ENG</td>\n",
       "      <td>https://www.npr.org/2010/01/18/122701268/i-hav...</td>\n",
       "    </tr>\n",
       "    <tr>\n",
       "      <th>segments/MK_Shushana_seg_00000004.wav</th>\n",
       "      <td>martin_luther_king</td>\n",
       "      <td>male</td>\n",
       "      <td>human</td>\n",
       "      <td>35</td>\n",
       "      <td>preaching</td>\n",
       "      <td>eng-ENG</td>\n",
       "      <td>https://www.npr.org/2010/01/18/122701268/i-hav...</td>\n",
       "    </tr>\n",
       "  </tbody>\n",
       "</table>\n",
       "</div>"
      ],
      "text/plain": [
       "                                                       id gender speakertype  \\\n",
       "segmented_file                                                                 \n",
       "segments/MK_Shushana_seg_00000000.wav  martin_luther_king   male       human   \n",
       "segments/MK_Shushana_seg_00000001.wav  martin_luther_king   male       human   \n",
       "segments/MK_Shushana_seg_00000002.wav  martin_luther_king   male       human   \n",
       "segments/MK_Shushana_seg_00000003.wav  martin_luther_king   male       human   \n",
       "segments/MK_Shushana_seg_00000004.wav  martin_luther_king   male       human   \n",
       "\n",
       "                                       age speechtype     lang  \\\n",
       "segmented_file                                                   \n",
       "segments/MK_Shushana_seg_00000000.wav   35  preaching  eng-ENG   \n",
       "segments/MK_Shushana_seg_00000001.wav   35  preaching  eng-ENG   \n",
       "segments/MK_Shushana_seg_00000002.wav   35  preaching  eng-ENG   \n",
       "segments/MK_Shushana_seg_00000003.wav   35  preaching  eng-ENG   \n",
       "segments/MK_Shushana_seg_00000004.wav   35  preaching  eng-ENG   \n",
       "\n",
       "                                                                                  source  \n",
       "segmented_file                                                                            \n",
       "segments/MK_Shushana_seg_00000000.wav  https://www.npr.org/2010/01/18/122701268/i-hav...  \n",
       "segments/MK_Shushana_seg_00000001.wav  https://www.npr.org/2010/01/18/122701268/i-hav...  \n",
       "segments/MK_Shushana_seg_00000002.wav  https://www.npr.org/2010/01/18/122701268/i-hav...  \n",
       "segments/MK_Shushana_seg_00000003.wav  https://www.npr.org/2010/01/18/122701268/i-hav...  \n",
       "segments/MK_Shushana_seg_00000004.wav  https://www.npr.org/2010/01/18/122701268/i-hav...  "
      ]
     },
     "execution_count": 7,
     "metadata": {},
     "output_type": "execute_result"
    }
   ],
   "source": [
    "df_king.head() #checking if everything is correct"
   ]
  },
  {
   "cell_type": "code",
   "execution_count": 8,
   "id": "3c03572c",
   "metadata": {},
   "outputs": [
    {
     "data": {
      "text/html": [
       "<div>\n",
       "<style scoped>\n",
       "    .dataframe tbody tr th:only-of-type {\n",
       "        vertical-align: middle;\n",
       "    }\n",
       "\n",
       "    .dataframe tbody tr th {\n",
       "        vertical-align: top;\n",
       "    }\n",
       "\n",
       "    .dataframe thead th {\n",
       "        text-align: right;\n",
       "    }\n",
       "</style>\n",
       "<table border=\"1\" class=\"dataframe\">\n",
       "  <thead>\n",
       "    <tr style=\"text-align: right;\">\n",
       "      <th></th>\n",
       "      <th>id</th>\n",
       "      <th>gender</th>\n",
       "      <th>speakertype</th>\n",
       "      <th>age</th>\n",
       "      <th>speechtype</th>\n",
       "      <th>lang</th>\n",
       "      <th>source</th>\n",
       "    </tr>\n",
       "    <tr>\n",
       "      <th>segmented_file</th>\n",
       "      <th></th>\n",
       "      <th></th>\n",
       "      <th></th>\n",
       "      <th></th>\n",
       "      <th></th>\n",
       "      <th></th>\n",
       "      <th></th>\n",
       "    </tr>\n",
       "  </thead>\n",
       "  <tbody>\n",
       "    <tr>\n",
       "      <th>segments/MK_Shushana_seg_00000000.wav</th>\n",
       "      <td>martin_luther_king</td>\n",
       "      <td>male</td>\n",
       "      <td>human</td>\n",
       "      <td>35</td>\n",
       "      <td>preaching</td>\n",
       "      <td>eng-ENG</td>\n",
       "      <td>https://www.npr.org/2010/01/18/122701268/i-hav...</td>\n",
       "    </tr>\n",
       "    <tr>\n",
       "      <th>segments/MK_Shushana_seg_00000001.wav</th>\n",
       "      <td>martin_luther_king</td>\n",
       "      <td>male</td>\n",
       "      <td>human</td>\n",
       "      <td>35</td>\n",
       "      <td>preaching</td>\n",
       "      <td>eng-ENG</td>\n",
       "      <td>https://www.npr.org/2010/01/18/122701268/i-hav...</td>\n",
       "    </tr>\n",
       "    <tr>\n",
       "      <th>segments/MK_Shushana_seg_00000002.wav</th>\n",
       "      <td>martin_luther_king</td>\n",
       "      <td>male</td>\n",
       "      <td>human</td>\n",
       "      <td>35</td>\n",
       "      <td>preaching</td>\n",
       "      <td>eng-ENG</td>\n",
       "      <td>https://www.npr.org/2010/01/18/122701268/i-hav...</td>\n",
       "    </tr>\n",
       "    <tr>\n",
       "      <th>segments/MK_Shushana_seg_00000003.wav</th>\n",
       "      <td>martin_luther_king</td>\n",
       "      <td>male</td>\n",
       "      <td>human</td>\n",
       "      <td>35</td>\n",
       "      <td>preaching</td>\n",
       "      <td>eng-ENG</td>\n",
       "      <td>https://www.npr.org/2010/01/18/122701268/i-hav...</td>\n",
       "    </tr>\n",
       "    <tr>\n",
       "      <th>segments/MK_Shushana_seg_00000004.wav</th>\n",
       "      <td>martin_luther_king</td>\n",
       "      <td>male</td>\n",
       "      <td>human</td>\n",
       "      <td>35</td>\n",
       "      <td>preaching</td>\n",
       "      <td>eng-ENG</td>\n",
       "      <td>https://www.npr.org/2010/01/18/122701268/i-hav...</td>\n",
       "    </tr>\n",
       "    <tr>\n",
       "      <th>...</th>\n",
       "      <td>...</td>\n",
       "      <td>...</td>\n",
       "      <td>...</td>\n",
       "      <td>...</td>\n",
       "      <td>...</td>\n",
       "      <td>...</td>\n",
       "      <td>...</td>\n",
       "    </tr>\n",
       "    <tr>\n",
       "      <th>segments/MK_Shushana_seg_00000072.wav</th>\n",
       "      <td>martin_luther_king</td>\n",
       "      <td>male</td>\n",
       "      <td>human</td>\n",
       "      <td>35</td>\n",
       "      <td>preaching</td>\n",
       "      <td>eng-ENG</td>\n",
       "      <td>https://www.npr.org/2010/01/18/122701268/i-hav...</td>\n",
       "    </tr>\n",
       "    <tr>\n",
       "      <th>segments/MK_Shushana_seg_00000073.wav</th>\n",
       "      <td>martin_luther_king</td>\n",
       "      <td>male</td>\n",
       "      <td>human</td>\n",
       "      <td>35</td>\n",
       "      <td>preaching</td>\n",
       "      <td>eng-ENG</td>\n",
       "      <td>https://www.npr.org/2010/01/18/122701268/i-hav...</td>\n",
       "    </tr>\n",
       "    <tr>\n",
       "      <th>segments/MK_Shushana_seg_00000074.wav</th>\n",
       "      <td>martin_luther_king</td>\n",
       "      <td>male</td>\n",
       "      <td>human</td>\n",
       "      <td>35</td>\n",
       "      <td>preaching</td>\n",
       "      <td>eng-ENG</td>\n",
       "      <td>https://www.npr.org/2010/01/18/122701268/i-hav...</td>\n",
       "    </tr>\n",
       "    <tr>\n",
       "      <th>segments/MK_Shushana_seg_00000075.wav</th>\n",
       "      <td>martin_luther_king</td>\n",
       "      <td>male</td>\n",
       "      <td>human</td>\n",
       "      <td>35</td>\n",
       "      <td>preaching</td>\n",
       "      <td>eng-ENG</td>\n",
       "      <td>https://www.npr.org/2010/01/18/122701268/i-hav...</td>\n",
       "    </tr>\n",
       "    <tr>\n",
       "      <th>segments/MK_Shushana_seg_00000076.wav</th>\n",
       "      <td>martin_luther_king</td>\n",
       "      <td>male</td>\n",
       "      <td>human</td>\n",
       "      <td>35</td>\n",
       "      <td>preaching</td>\n",
       "      <td>eng-ENG</td>\n",
       "      <td>https://www.npr.org/2010/01/18/122701268/i-hav...</td>\n",
       "    </tr>\n",
       "  </tbody>\n",
       "</table>\n",
       "<p>77 rows × 7 columns</p>\n",
       "</div>"
      ],
      "text/plain": [
       "                                                       id gender speakertype  \\\n",
       "segmented_file                                                                 \n",
       "segments/MK_Shushana_seg_00000000.wav  martin_luther_king   male       human   \n",
       "segments/MK_Shushana_seg_00000001.wav  martin_luther_king   male       human   \n",
       "segments/MK_Shushana_seg_00000002.wav  martin_luther_king   male       human   \n",
       "segments/MK_Shushana_seg_00000003.wav  martin_luther_king   male       human   \n",
       "segments/MK_Shushana_seg_00000004.wav  martin_luther_king   male       human   \n",
       "...                                                   ...    ...         ...   \n",
       "segments/MK_Shushana_seg_00000072.wav  martin_luther_king   male       human   \n",
       "segments/MK_Shushana_seg_00000073.wav  martin_luther_king   male       human   \n",
       "segments/MK_Shushana_seg_00000074.wav  martin_luther_king   male       human   \n",
       "segments/MK_Shushana_seg_00000075.wav  martin_luther_king   male       human   \n",
       "segments/MK_Shushana_seg_00000076.wav  martin_luther_king   male       human   \n",
       "\n",
       "                                       age speechtype     lang  \\\n",
       "segmented_file                                                   \n",
       "segments/MK_Shushana_seg_00000000.wav   35  preaching  eng-ENG   \n",
       "segments/MK_Shushana_seg_00000001.wav   35  preaching  eng-ENG   \n",
       "segments/MK_Shushana_seg_00000002.wav   35  preaching  eng-ENG   \n",
       "segments/MK_Shushana_seg_00000003.wav   35  preaching  eng-ENG   \n",
       "segments/MK_Shushana_seg_00000004.wav   35  preaching  eng-ENG   \n",
       "...                                    ...        ...      ...   \n",
       "segments/MK_Shushana_seg_00000072.wav   35  preaching  eng-ENG   \n",
       "segments/MK_Shushana_seg_00000073.wav   35  preaching  eng-ENG   \n",
       "segments/MK_Shushana_seg_00000074.wav   35  preaching  eng-ENG   \n",
       "segments/MK_Shushana_seg_00000075.wav   35  preaching  eng-ENG   \n",
       "segments/MK_Shushana_seg_00000076.wav   35  preaching  eng-ENG   \n",
       "\n",
       "                                                                                  source  \n",
       "segmented_file                                                                            \n",
       "segments/MK_Shushana_seg_00000000.wav  https://www.npr.org/2010/01/18/122701268/i-hav...  \n",
       "segments/MK_Shushana_seg_00000001.wav  https://www.npr.org/2010/01/18/122701268/i-hav...  \n",
       "segments/MK_Shushana_seg_00000002.wav  https://www.npr.org/2010/01/18/122701268/i-hav...  \n",
       "segments/MK_Shushana_seg_00000003.wav  https://www.npr.org/2010/01/18/122701268/i-hav...  \n",
       "segments/MK_Shushana_seg_00000004.wav  https://www.npr.org/2010/01/18/122701268/i-hav...  \n",
       "...                                                                                  ...  \n",
       "segments/MK_Shushana_seg_00000072.wav  https://www.npr.org/2010/01/18/122701268/i-hav...  \n",
       "segments/MK_Shushana_seg_00000073.wav  https://www.npr.org/2010/01/18/122701268/i-hav...  \n",
       "segments/MK_Shushana_seg_00000074.wav  https://www.npr.org/2010/01/18/122701268/i-hav...  \n",
       "segments/MK_Shushana_seg_00000075.wav  https://www.npr.org/2010/01/18/122701268/i-hav...  \n",
       "segments/MK_Shushana_seg_00000076.wav  https://www.npr.org/2010/01/18/122701268/i-hav...  \n",
       "\n",
       "[77 rows x 7 columns]"
      ]
     },
     "execution_count": 8,
     "metadata": {},
     "output_type": "execute_result"
    }
   ],
   "source": [
    "pd.read_pickle('Annotations/king.pkl') #reading the pickle file"
   ]
  },
  {
   "cell_type": "markdown",
   "id": "b2c16641",
   "metadata": {},
   "source": [
    "# Large Dataframe & Visualisation"
   ]
  },
  {
   "cell_type": "code",
   "execution_count": 9,
   "id": "dbf61e68",
   "metadata": {},
   "outputs": [],
   "source": [
    "import glob #used to retrieve files/pathnames matching a specified pattern\n",
    "from pathlib import Path \n",
    "import numpy as np\n",
    "import shutil #high-level operations on collections of files\n",
    "import sys\n",
    "sys.path.append(\"./mld/src\")\n",
    "import matplotlib.pyplot as plt #for generating boxplots \n",
    "import seaborn as sns  #another data visualization library based on matplotlib"
   ]
  },
  {
   "cell_type": "code",
   "execution_count": 10,
   "id": "2bc62d89",
   "metadata": {},
   "outputs": [],
   "source": [
    "in_directory = './Annotations/' #the directory where all the required files are stored"
   ]
  },
  {
   "cell_type": "code",
   "execution_count": 11,
   "id": "63b0340c",
   "metadata": {},
   "outputs": [],
   "source": [
    "# copy all wav files to one directory; \n",
    "wav_sources = 'processed/'\n",
    "wav_target = 'all_wavs'\n",
    "for file in Path(wav_sources).rglob('*.wav'): #(base, pattern); recursive glob starting in specified directory\n",
    "    if os.path.isfile(file):\n",
    "        shutil.copy2(file, wav_target)"
   ]
  },
  {
   "cell_type": "code",
   "execution_count": 12,
   "id": "6b05a712",
   "metadata": {},
   "outputs": [
    {
     "data": {
      "text/html": [
       "<div>\n",
       "<style scoped>\n",
       "    .dataframe tbody tr th:only-of-type {\n",
       "        vertical-align: middle;\n",
       "    }\n",
       "\n",
       "    .dataframe tbody tr th {\n",
       "        vertical-align: top;\n",
       "    }\n",
       "\n",
       "    .dataframe thead th {\n",
       "        text-align: right;\n",
       "    }\n",
       "</style>\n",
       "<table border=\"1\" class=\"dataframe\">\n",
       "  <thead>\n",
       "    <tr style=\"text-align: right;\">\n",
       "      <th></th>\n",
       "      <th>id</th>\n",
       "      <th>gender</th>\n",
       "      <th>speakertype</th>\n",
       "      <th>age</th>\n",
       "      <th>lang</th>\n",
       "      <th>speechtype</th>\n",
       "      <th>source</th>\n",
       "    </tr>\n",
       "    <tr>\n",
       "      <th>segmented_file</th>\n",
       "      <th></th>\n",
       "      <th></th>\n",
       "      <th></th>\n",
       "      <th></th>\n",
       "      <th></th>\n",
       "      <th></th>\n",
       "      <th></th>\n",
       "    </tr>\n",
       "  </thead>\n",
       "  <tbody>\n",
       "    <tr>\n",
       "      <th>all_wavs/Q-Stimme_Orschulik_seg_00000000.wav</th>\n",
       "      <td>Q-Stimme</td>\n",
       "      <td>divers</td>\n",
       "      <td>synthetic</td>\n",
       "      <td>35</td>\n",
       "      <td>de-DE</td>\n",
       "      <td>synthetic</td>\n",
       "      <td>https://www.genderlessvoice.com/</td>\n",
       "    </tr>\n",
       "    <tr>\n",
       "      <th>all_wavs/Q-Stimme_Orschulik_seg_00000001.wav</th>\n",
       "      <td>Q-Stimme</td>\n",
       "      <td>divers</td>\n",
       "      <td>synthetic</td>\n",
       "      <td>35</td>\n",
       "      <td>de-DE</td>\n",
       "      <td>synthetic</td>\n",
       "      <td>https://www.genderlessvoice.com/</td>\n",
       "    </tr>\n",
       "    <tr>\n",
       "      <th>all_wavs/Q-Stimme_Orschulik_seg_00000002.wav</th>\n",
       "      <td>Q-Stimme</td>\n",
       "      <td>divers</td>\n",
       "      <td>synthetic</td>\n",
       "      <td>35</td>\n",
       "      <td>de-DE</td>\n",
       "      <td>synthetic</td>\n",
       "      <td>https://www.genderlessvoice.com/</td>\n",
       "    </tr>\n",
       "    <tr>\n",
       "      <th>all_wavs/Q-Stimme_Orschulik_seg_00000003.wav</th>\n",
       "      <td>Q-Stimme</td>\n",
       "      <td>divers</td>\n",
       "      <td>synthetic</td>\n",
       "      <td>35</td>\n",
       "      <td>de-DE</td>\n",
       "      <td>synthetic</td>\n",
       "      <td>https://www.genderlessvoice.com/</td>\n",
       "    </tr>\n",
       "    <tr>\n",
       "      <th>all_wavs/Q-Stimme_Orschulik_seg_00000004.wav</th>\n",
       "      <td>Q-Stimme</td>\n",
       "      <td>divers</td>\n",
       "      <td>synthetic</td>\n",
       "      <td>35</td>\n",
       "      <td>de-DE</td>\n",
       "      <td>synthetic</td>\n",
       "      <td>https://www.genderlessvoice.com/</td>\n",
       "    </tr>\n",
       "  </tbody>\n",
       "</table>\n",
       "</div>"
      ],
      "text/plain": [
       "                                                    id  gender speakertype  \\\n",
       "segmented_file                                                               \n",
       "all_wavs/Q-Stimme_Orschulik_seg_00000000.wav  Q-Stimme  divers   synthetic   \n",
       "all_wavs/Q-Stimme_Orschulik_seg_00000001.wav  Q-Stimme  divers   synthetic   \n",
       "all_wavs/Q-Stimme_Orschulik_seg_00000002.wav  Q-Stimme  divers   synthetic   \n",
       "all_wavs/Q-Stimme_Orschulik_seg_00000003.wav  Q-Stimme  divers   synthetic   \n",
       "all_wavs/Q-Stimme_Orschulik_seg_00000004.wav  Q-Stimme  divers   synthetic   \n",
       "\n",
       "                                              age   lang speechtype  \\\n",
       "segmented_file                                                        \n",
       "all_wavs/Q-Stimme_Orschulik_seg_00000000.wav   35  de-DE  synthetic   \n",
       "all_wavs/Q-Stimme_Orschulik_seg_00000001.wav   35  de-DE  synthetic   \n",
       "all_wavs/Q-Stimme_Orschulik_seg_00000002.wav   35  de-DE  synthetic   \n",
       "all_wavs/Q-Stimme_Orschulik_seg_00000003.wav   35  de-DE  synthetic   \n",
       "all_wavs/Q-Stimme_Orschulik_seg_00000004.wav   35  de-DE  synthetic   \n",
       "\n",
       "                                                                        source  \n",
       "segmented_file                                                                  \n",
       "all_wavs/Q-Stimme_Orschulik_seg_00000000.wav  https://www.genderlessvoice.com/  \n",
       "all_wavs/Q-Stimme_Orschulik_seg_00000001.wav  https://www.genderlessvoice.com/  \n",
       "all_wavs/Q-Stimme_Orschulik_seg_00000002.wav  https://www.genderlessvoice.com/  \n",
       "all_wavs/Q-Stimme_Orschulik_seg_00000003.wav  https://www.genderlessvoice.com/  \n",
       "all_wavs/Q-Stimme_Orschulik_seg_00000004.wav  https://www.genderlessvoice.com/  "
      ]
     },
     "execution_count": 12,
     "metadata": {},
     "output_type": "execute_result"
    }
   ],
   "source": [
    "# Fix pandas error with Orschulik df\n",
    "df_q = pd.read_pickle('./processed/Orschulik/Orschulik_mdf.pkl')\n",
    "def re_arrange_df(df, audio_dir):\n",
    "    df['segmented_file'] = df['segmented_file'].apply(lambda x: audio_dir+os.path.basename(x))\n",
    "    df = df.set_index(df.segmented_file)\n",
    "    df = df.drop(columns=['segmented_file', 'channel'])\n",
    "    return df\n",
    "df_q = re_arrange_df(df_q, 'all_wavs/')\n",
    "\n",
    "ad ={'id':'Q-Stimme', \n",
    "     'gender': 'divers', \n",
    "     'speakertype': 'synthetic',\n",
    "     'age': 35, \n",
    "     'lang':'de-DE', \n",
    "     'speechtype':'synthetic',\n",
    "     'source':'https://www.genderlessvoice.com/'}\n",
    "for k in ad:\n",
    "    df_q[k] = ad[k]\n",
    "df_q.to_pickle('speeches/q.pkl')\n",
    "\n",
    "df_q.head()"
   ]
  },
  {
   "cell_type": "code",
   "execution_count": 13,
   "id": "4aa84bbd",
   "metadata": {},
   "outputs": [],
   "source": [
    "# Fix file path with Wannenmacher df\n",
    "df_wannenmacher = pd.read_pickle('./Annotations/Apt.pkl')\n",
    "df_wannenmacher.head()\n",
    "df_wannenmacher.index = df_wannenmacher.index.to_series().apply(lambda x: x[3:])\n",
    "df_wannenmacher.to_pickle('./Annotations/Apt.pkl')"
   ]
  },
  {
   "cell_type": "code",
   "execution_count": 14,
   "id": "ac09644f",
   "metadata": {},
   "outputs": [
    {
     "name": "stdout",
     "output_type": "stream",
     "text": [
      "./Annotations/Apt.pkl\n",
      "./Annotations/schumacher.pkl\n",
      "./Annotations/king.pkl\n",
      "./Annotations/alexa.pkl\n",
      "./Annotations/amthor.pkl\n",
      "./Annotations/Drosten.pkl\n",
      "./Annotations/geliebte_anno.pkl\n",
      "./Annotations/obama.pkl\n",
      "./Annotations/thunberg.pkl\n",
      "./Annotations/bartsch.pkl\n",
      "./Annotations/q.pkl\n"
     ]
    }
   ],
   "source": [
    "#create a collective data frame with all the zip files from folder\n",
    "df = pd.DataFrame()\n",
    "audio_directory = 'all_wavs/'\n",
    "for file in glob.glob(in_directory+'*.pkl'):\n",
    "    print(file)\n",
    "    df_tmp = pd.read_pickle(file)\n",
    "    try:\n",
    "        df_tmp['gender'] = df_tmp.sex\n",
    "        df_tmp = df_tmp.drop(columns=['sex'])\n",
    "    except (KeyError, AttributeError) as e:\n",
    "        pass\n",
    "    df_tmp.index = df_tmp.index.to_series().apply(lambda x: audio_directory+os.path.basename(x))\n",
    "    df = df.append(df_tmp)"
   ]
  },
  {
   "cell_type": "code",
   "execution_count": 15,
   "id": "f6417647",
   "metadata": {},
   "outputs": [
    {
     "data": {
      "text/plain": [
       "array(['Daniel_Apt', 'hajo_schumacher', 'martin_luther_king', 'alexa',\n",
       "       'philipp.amthor', 'Drosten', 'hildegard_knef', 'michelle_obama',\n",
       "       'greta_thunberg', 'dietmar_bartsch', 'Q-Stimme'], dtype=object)"
      ]
     },
     "execution_count": 15,
     "metadata": {},
     "output_type": "execute_result"
    }
   ],
   "source": [
    "df.id.unique()"
   ]
  },
  {
   "cell_type": "code",
   "execution_count": 28,
   "id": "0a37f44f",
   "metadata": {},
   "outputs": [
    {
     "data": {
      "text/html": [
       "<div>\n",
       "<style scoped>\n",
       "    .dataframe tbody tr th:only-of-type {\n",
       "        vertical-align: middle;\n",
       "    }\n",
       "\n",
       "    .dataframe tbody tr th {\n",
       "        vertical-align: top;\n",
       "    }\n",
       "\n",
       "    .dataframe thead th {\n",
       "        text-align: right;\n",
       "    }\n",
       "</style>\n",
       "<table border=\"1\" class=\"dataframe\">\n",
       "  <thead>\n",
       "    <tr style=\"text-align: right;\">\n",
       "      <th></th>\n",
       "      <th>id</th>\n",
       "      <th>gender</th>\n",
       "      <th>speakertype</th>\n",
       "      <th>age</th>\n",
       "      <th>lang</th>\n",
       "      <th>speechtype</th>\n",
       "      <th>source</th>\n",
       "    </tr>\n",
       "    <tr>\n",
       "      <th>segmented_file</th>\n",
       "      <th></th>\n",
       "      <th></th>\n",
       "      <th></th>\n",
       "      <th></th>\n",
       "      <th></th>\n",
       "      <th></th>\n",
       "      <th></th>\n",
       "    </tr>\n",
       "  </thead>\n",
       "  <tbody>\n",
       "    <tr>\n",
       "      <th>all_wavs/000000.wav</th>\n",
       "      <td>Daniel_Apt</td>\n",
       "      <td>male</td>\n",
       "      <td>human</td>\n",
       "      <td>28</td>\n",
       "      <td>de-DE</td>\n",
       "      <td>explanatory</td>\n",
       "      <td>https://www.youtube.com/watch?v=9ktOUffssTA</td>\n",
       "    </tr>\n",
       "    <tr>\n",
       "      <th>all_wavs/000001.wav</th>\n",
       "      <td>Daniel_Apt</td>\n",
       "      <td>male</td>\n",
       "      <td>human</td>\n",
       "      <td>28</td>\n",
       "      <td>de-DE</td>\n",
       "      <td>explanatory</td>\n",
       "      <td>https://www.youtube.com/watch?v=9ktOUffssTA</td>\n",
       "    </tr>\n",
       "    <tr>\n",
       "      <th>all_wavs/000002.wav</th>\n",
       "      <td>Daniel_Apt</td>\n",
       "      <td>male</td>\n",
       "      <td>human</td>\n",
       "      <td>28</td>\n",
       "      <td>de-DE</td>\n",
       "      <td>explanatory</td>\n",
       "      <td>https://www.youtube.com/watch?v=9ktOUffssTA</td>\n",
       "    </tr>\n",
       "    <tr>\n",
       "      <th>all_wavs/000003.wav</th>\n",
       "      <td>Daniel_Apt</td>\n",
       "      <td>male</td>\n",
       "      <td>human</td>\n",
       "      <td>28</td>\n",
       "      <td>de-DE</td>\n",
       "      <td>explanatory</td>\n",
       "      <td>https://www.youtube.com/watch?v=9ktOUffssTA</td>\n",
       "    </tr>\n",
       "    <tr>\n",
       "      <th>all_wavs/000004.wav</th>\n",
       "      <td>Daniel_Apt</td>\n",
       "      <td>male</td>\n",
       "      <td>human</td>\n",
       "      <td>28</td>\n",
       "      <td>de-DE</td>\n",
       "      <td>explanatory</td>\n",
       "      <td>https://www.youtube.com/watch?v=9ktOUffssTA</td>\n",
       "    </tr>\n",
       "    <tr>\n",
       "      <th>all_wavs/000005.wav</th>\n",
       "      <td>Daniel_Apt</td>\n",
       "      <td>male</td>\n",
       "      <td>human</td>\n",
       "      <td>28</td>\n",
       "      <td>de-DE</td>\n",
       "      <td>explanatory</td>\n",
       "      <td>https://www.youtube.com/watch?v=9ktOUffssTA</td>\n",
       "    </tr>\n",
       "  </tbody>\n",
       "</table>\n",
       "</div>"
      ],
      "text/plain": [
       "                             id gender speakertype age   lang   speechtype  \\\n",
       "segmented_file                                                               \n",
       "all_wavs/000000.wav  Daniel_Apt   male       human  28  de-DE  explanatory   \n",
       "all_wavs/000001.wav  Daniel_Apt   male       human  28  de-DE  explanatory   \n",
       "all_wavs/000002.wav  Daniel_Apt   male       human  28  de-DE  explanatory   \n",
       "all_wavs/000003.wav  Daniel_Apt   male       human  28  de-DE  explanatory   \n",
       "all_wavs/000004.wav  Daniel_Apt   male       human  28  de-DE  explanatory   \n",
       "all_wavs/000005.wav  Daniel_Apt   male       human  28  de-DE  explanatory   \n",
       "\n",
       "                                                          source  \n",
       "segmented_file                                                    \n",
       "all_wavs/000000.wav  https://www.youtube.com/watch?v=9ktOUffssTA  \n",
       "all_wavs/000001.wav  https://www.youtube.com/watch?v=9ktOUffssTA  \n",
       "all_wavs/000002.wav  https://www.youtube.com/watch?v=9ktOUffssTA  \n",
       "all_wavs/000003.wav  https://www.youtube.com/watch?v=9ktOUffssTA  \n",
       "all_wavs/000004.wav  https://www.youtube.com/watch?v=9ktOUffssTA  \n",
       "all_wavs/000005.wav  https://www.youtube.com/watch?v=9ktOUffssTA  "
      ]
     },
     "execution_count": 28,
     "metadata": {},
     "output_type": "execute_result"
    }
   ],
   "source": [
    "df.head(6)"
   ]
  },
  {
   "cell_type": "code",
   "execution_count": 17,
   "id": "a78b7e7c",
   "metadata": {},
   "outputs": [
    {
     "data": {
      "text/plain": [
       "array(['male', 'female', 'divers'], dtype=object)"
      ]
     },
     "execution_count": 17,
     "metadata": {},
     "output_type": "execute_result"
    }
   ],
   "source": [
    "df.gender.unique()"
   ]
  },
  {
   "cell_type": "markdown",
   "id": "49b424b0",
   "metadata": {},
   "source": [
    "### Feature extraction\n",
    "Mid level descriptor features are extracted from the dataframe index (containing the audio file path)"
   ]
  },
  {
   "cell_type": "code",
   "execution_count": null,
   "id": "978e2512",
   "metadata": {},
   "outputs": [],
   "source": [
    "fex_mld = mld.MLD()\n",
    "mld_df = fex_mld.extract_from_index(index=df, cache_path='./tmp/alldf_mld_cache/cache')"
   ]
  },
  {
   "cell_type": "code",
   "execution_count": 18,
   "id": "9f54439f",
   "metadata": {},
   "outputs": [
    {
     "data": {
      "text/plain": [
       "(794, 7)"
      ]
     },
     "execution_count": 18,
     "metadata": {},
     "output_type": "execute_result"
    }
   ],
   "source": [
    "df.shape"
   ]
  },
  {
   "cell_type": "code",
   "execution_count": 19,
   "id": "331ce0c1",
   "metadata": {},
   "outputs": [
    {
     "data": {
      "text/plain": [
       "<AxesSubplot:ylabel='speechtype'>"
      ]
     },
     "execution_count": 19,
     "metadata": {},
     "output_type": "execute_result"
    },
    {
     "data": {
      "image/png": "[encoded data removed]",
      "text/plain": [
       "<Figure size 432x288 with 1 Axes>"
      ]
     },
     "metadata": {},
     "output_type": "display_data"
    }
   ],
   "source": [
    "df.speechtype.value_counts().plot(kind='pie')"
   ]
  },
  {
   "cell_type": "code",
   "execution_count": 20,
   "id": "42ca8471",
   "metadata": {},
   "outputs": [
    {
     "data": {
      "text/plain": [
       "<AxesSubplot:ylabel='speakertype'>"
      ]
     },
     "execution_count": 20,
     "metadata": {},
     "output_type": "execute_result"
    },
    {
     "data": {
      "image/png": "[encoded data removed]",
      "text/plain": [
       "<Figure size 432x288 with 1 Axes>"
      ]
     },
     "metadata": {},
     "output_type": "display_data"
    }
   ],
   "source": [
    "df.speakertype.value_counts().plot(kind='pie')"
   ]
  },
  {
   "cell_type": "code",
   "execution_count": 21,
   "id": "92afa355",
   "metadata": {},
   "outputs": [],
   "source": [
    "df_preach = df[df.speechtype=='preaching']\n",
    "df_debate = df[df.speechtype=='debate']"
   ]
  },
  {
   "cell_type": "code",
   "execution_count": 22,
   "id": "f2d4f72e",
   "metadata": {},
   "outputs": [
    {
     "ename": "NameError",
     "evalue": "name 'mld_df' is not defined",
     "output_type": "error",
     "traceback": [
      "\u001b[0;31m---------------------------------------------------------------------------\u001b[0m",
      "\u001b[0;31mNameError\u001b[0m                                 Traceback (most recent call last)",
      "\u001b[0;32m<ipython-input-22-10ca38352b7e>\u001b[0m in \u001b[0;36m<module>\u001b[0;34m\u001b[0m\n\u001b[1;32m      1\u001b[0m \u001b[0;32mdef\u001b[0m \u001b[0mget_feats\u001b[0m\u001b[0;34m(\u001b[0m\u001b[0mdf\u001b[0m\u001b[0;34m)\u001b[0m\u001b[0;34m:\u001b[0m\u001b[0;34m\u001b[0m\u001b[0;34m\u001b[0m\u001b[0m\n\u001b[1;32m      2\u001b[0m     \u001b[0;32mreturn\u001b[0m \u001b[0mmld_df\u001b[0m\u001b[0;34m[\u001b[0m\u001b[0mmld_df\u001b[0m\u001b[0;34m.\u001b[0m\u001b[0mindex\u001b[0m\u001b[0;34m.\u001b[0m\u001b[0misin\u001b[0m\u001b[0;34m(\u001b[0m\u001b[0mdf\u001b[0m\u001b[0;34m.\u001b[0m\u001b[0mindex\u001b[0m\u001b[0;34m)\u001b[0m\u001b[0;34m]\u001b[0m\u001b[0;34m\u001b[0m\u001b[0;34m\u001b[0m\u001b[0m\n\u001b[0;32m----> 3\u001b[0;31m \u001b[0mfeats_preach\u001b[0m \u001b[0;34m=\u001b[0m \u001b[0mget_feats\u001b[0m\u001b[0;34m(\u001b[0m\u001b[0mdf_preach\u001b[0m\u001b[0;34m)\u001b[0m\u001b[0;34m\u001b[0m\u001b[0;34m\u001b[0m\u001b[0m\n\u001b[0m\u001b[1;32m      4\u001b[0m \u001b[0mfeats_debate\u001b[0m \u001b[0;34m=\u001b[0m \u001b[0mget_feats\u001b[0m\u001b[0;34m(\u001b[0m\u001b[0mdf_debate\u001b[0m\u001b[0;34m)\u001b[0m\u001b[0;34m\u001b[0m\u001b[0;34m\u001b[0m\u001b[0m\n",
      "\u001b[0;32m<ipython-input-22-10ca38352b7e>\u001b[0m in \u001b[0;36mget_feats\u001b[0;34m(df)\u001b[0m\n\u001b[1;32m      1\u001b[0m \u001b[0;32mdef\u001b[0m \u001b[0mget_feats\u001b[0m\u001b[0;34m(\u001b[0m\u001b[0mdf\u001b[0m\u001b[0;34m)\u001b[0m\u001b[0;34m:\u001b[0m\u001b[0;34m\u001b[0m\u001b[0;34m\u001b[0m\u001b[0m\n\u001b[0;32m----> 2\u001b[0;31m     \u001b[0;32mreturn\u001b[0m \u001b[0mmld_df\u001b[0m\u001b[0;34m[\u001b[0m\u001b[0mmld_df\u001b[0m\u001b[0;34m.\u001b[0m\u001b[0mindex\u001b[0m\u001b[0;34m.\u001b[0m\u001b[0misin\u001b[0m\u001b[0;34m(\u001b[0m\u001b[0mdf\u001b[0m\u001b[0;34m.\u001b[0m\u001b[0mindex\u001b[0m\u001b[0;34m)\u001b[0m\u001b[0;34m]\u001b[0m\u001b[0;34m\u001b[0m\u001b[0;34m\u001b[0m\u001b[0m\n\u001b[0m\u001b[1;32m      3\u001b[0m \u001b[0mfeats_preach\u001b[0m \u001b[0;34m=\u001b[0m \u001b[0mget_feats\u001b[0m\u001b[0;34m(\u001b[0m\u001b[0mdf_preach\u001b[0m\u001b[0;34m)\u001b[0m\u001b[0;34m\u001b[0m\u001b[0;34m\u001b[0m\u001b[0m\n\u001b[1;32m      4\u001b[0m \u001b[0mfeats_debate\u001b[0m \u001b[0;34m=\u001b[0m \u001b[0mget_feats\u001b[0m\u001b[0;34m(\u001b[0m\u001b[0mdf_debate\u001b[0m\u001b[0;34m)\u001b[0m\u001b[0;34m\u001b[0m\u001b[0;34m\u001b[0m\u001b[0m\n",
      "\u001b[0;31mNameError\u001b[0m: name 'mld_df' is not defined"
     ]
    }
   ],
   "source": [
    "def get_feats(df):\n",
    "    return mld_df[mld_df.index.isin(df.index)]\n",
    "feats_preach = get_feats(df_preach)\n",
    "feats_debate = get_feats(df_debate)"
   ]
  },
  {
   "cell_type": "code",
   "execution_count": 23,
   "id": "76869095",
   "metadata": {},
   "outputs": [
    {
     "ename": "NameError",
     "evalue": "name 'feats_preach' is not defined",
     "output_type": "error",
     "traceback": [
      "\u001b[0;31m---------------------------------------------------------------------------\u001b[0m",
      "\u001b[0;31mNameError\u001b[0m                                 Traceback (most recent call last)",
      "\u001b[0;32m<ipython-input-23-2a7551bac47e>\u001b[0m in \u001b[0;36m<module>\u001b[0;34m\u001b[0m\n\u001b[0;32m----> 1\u001b[0;31m \u001b[0mfeats_preach\u001b[0m\u001b[0;34m.\u001b[0m\u001b[0mshape\u001b[0m\u001b[0;34m\u001b[0m\u001b[0;34m\u001b[0m\u001b[0m\n\u001b[0m",
      "\u001b[0;31mNameError\u001b[0m: name 'feats_preach' is not defined"
     ]
    }
   ],
   "source": [
    "feats_preach.shape"
   ]
  },
  {
   "cell_type": "code",
   "execution_count": 24,
   "id": "a843a6d2",
   "metadata": {},
   "outputs": [
    {
     "ename": "NameError",
     "evalue": "name 'feats_preach' is not defined",
     "output_type": "error",
     "traceback": [
      "\u001b[0;31m---------------------------------------------------------------------------\u001b[0m",
      "\u001b[0;31mNameError\u001b[0m                                 Traceback (most recent call last)",
      "\u001b[0;32m<ipython-input-24-7f1c9bab8087>\u001b[0m in \u001b[0;36m<module>\u001b[0;34m\u001b[0m\n\u001b[0;32m----> 1\u001b[0;31m pd.concat([feats_preach['hld_sylRate'].rename('preach'), \n\u001b[0m\u001b[1;32m      2\u001b[0m            feats_debate['hld_sylRate'].rename('debate')], axis=1).boxplot()\n",
      "\u001b[0;31mNameError\u001b[0m: name 'feats_preach' is not defined"
     ]
    }
   ],
   "source": [
    "pd.concat([feats_preach['hld_sylRate'].rename('preach'), \n",
    "           feats_debate['hld_sylRate'].rename('debate')], axis=1).boxplot()"
   ]
  },
  {
   "cell_type": "code",
   "execution_count": null,
   "id": "1dc4d26d",
   "metadata": {},
   "outputs": [],
   "source": []
  }
 ],
 "metadata": {
  "kernelspec": {
   "display_name": "Python 3",
   "language": "python",
   "name": "python3"
  },
  "language_info": {
   "codemirror_mode": {
    "name": "ipython",
    "version": 3
   },
   "file_extension": ".py",
   "mimetype": "text/x-python",
   "name": "python",
   "nbconvert_exporter": "python",
   "pygments_lexer": "ipython3",
   "version": "3.8.2"
  }
 },
 "nbformat": 4,
 "nbformat_minor": 5
}
