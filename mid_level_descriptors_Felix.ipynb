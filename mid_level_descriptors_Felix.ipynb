{
 "cells": [
  {
   "cell_type": "markdown",
   "id": "a234c8e4",
   "metadata": {},
   "source": [
    "## Das ist die Abgabe von Felix"
   ]
  },
  {
   "cell_type": "markdown",
   "id": "b3d4fa0f",
   "metadata": {},
   "source": [
    "## Ich bin Markdown\n",
    "* ich bin eine Liste\n",
    "* ich auch\n",
    "ich nicht\n",
    "ich [bin ein link](http://kw.tu-berlin.de)"
   ]
  },
  {
   "cell_type": "code",
   "execution_count": null,
   "id": "26f16b03",
   "metadata": {},
   "outputs": [],
   "source": [
    "import sys\n",
    "sys.path.append(\"./mld/src\")\n",
    "import midlevel_descriptors as mld\n",
    "import os\n",
    "import pandas as pd\n",
    "import IPython\n",
    "import opensmile\n",
    "sys.path.append(\"./text_features\")\n",
    "import text_features as tf"
   ]
  },
  {
   "cell_type": "code",
   "execution_count": null,
   "id": "israeli-trauma",
   "metadata": {},
   "outputs": [],
   "source": [
    "df_bartsch = pd.read_pickle('processed/Burkhardt/Burkhardt_mdf.pkl')\n",
    "\n",
    "# add path to file\n",
    "df_bartsch['segmented_file'] = df_bartsch['segmented_file'].apply(lambda x: 'processed/Burkhardt/'+os.path.basename(x))\n",
    "df_bartsch = df_bartsch.set_index(df_bartsch.segmented_file)\n",
    "df_bartsch = df_bartsch.drop(columns=['segmented_file', 'channel'])\n",
    "df_bartsch.head(1)  # show first rows\n",
    "# df_bartsch.to_pickle('processed/Burkhardt/Burkhardt_mdf.pkl')"
   ]
  },
  {
   "cell_type": "code",
   "execution_count": null,
   "id": "0d9029b8",
   "metadata": {},
   "outputs": [],
   "source": [
    "IPython.display.Audio('processed/Burkhardt/Bartsch_Burkhardt_seg_00000034.wav')"
   ]
  },
  {
   "cell_type": "code",
   "execution_count": null,
   "id": "incomplete-closure",
   "metadata": {},
   "outputs": [],
   "source": [
    "fex_mld = mld.MLD()\n",
    "mld_df = fex_mld.extract_from_index(index=df_bartsch, cache_path='./tmp/mld')"
   ]
  },
  {
   "cell_type": "code",
   "execution_count": null,
   "id": "9164d73b",
   "metadata": {},
   "outputs": [],
   "source": [
    "df_mld_seqs.shape"
   ]
  },
  {
   "cell_type": "code",
   "execution_count": null,
   "id": "aa85a210",
   "metadata": {},
   "outputs": [],
   "source": [
    "smile_lld = opensmile.Smile(\n",
    "feature_set = opensmile.FeatureSet.GeMAPSv01b,\n",
    "feature_level = opensmile.FeatureLevel.LowLevelDescriptors,\n",
    ")\n",
    "smile_functionals = opensmile.Smile(\n",
    "feature_set = opensmile.FeatureSet.GeMAPSv01b,\n",
    "feature_level = opensmile.FeatureLevel.Functionals,\n",
    ")"
   ]
  },
  {
   "cell_type": "code",
   "execution_count": null,
   "id": "9492964c",
   "metadata": {},
   "outputs": [],
   "source": [
    "lld_df = smile_lld.process_files(df_bartsch.index)\n",
    "print(lld_df.shape)"
   ]
  },
  {
   "cell_type": "code",
   "execution_count": null,
   "id": "796a622c",
   "metadata": {},
   "outputs": [],
   "source": [
    "funct_df = smile_functionals.process_files(df_bartsch.index)\n",
    "print(funct_df.shape)"
   ]
  },
  {
   "cell_type": "code",
   "execution_count": null,
   "id": "400d4775",
   "metadata": {
    "scrolled": true
   },
   "outputs": [],
   "source": [
    "lld_df.head(3)"
   ]
  },
  {
   "cell_type": "code",
   "execution_count": null,
   "id": "4f0eb10e",
   "metadata": {
    "scrolled": true
   },
   "outputs": [],
   "source": [
    "funct_df.head(3)"
   ]
  },
  {
   "cell_type": "code",
   "execution_count": null,
   "id": "5292fe80",
   "metadata": {
    "scrolled": true
   },
   "outputs": [],
   "source": [
    "mld_df.head(3)"
   ]
  },
  {
   "cell_type": "code",
   "execution_count": null,
   "id": "linear-narrative",
   "metadata": {},
   "outputs": [],
   "source": [
    "df_mld_seqs.shape"
   ]
  },
  {
   "cell_type": "code",
   "execution_count": null,
   "id": "oriented-worse",
   "metadata": {},
   "outputs": [],
   "source": [
    "df_mld_seqs.head(5)"
   ]
  },
  {
   "cell_type": "code",
   "execution_count": 1,
   "id": "current-redhead",
   "metadata": {},
   "outputs": [
    {
     "ename": "ModuleNotFoundError",
     "evalue": "No module named 'asr'",
     "output_type": "error",
     "traceback": [
      "\u001b[0;31m---------------------------------------------------------------------------\u001b[0m",
      "\u001b[0;31mModuleNotFoundError\u001b[0m                       Traceback (most recent call last)",
      "\u001b[0;32m<ipython-input-1-f952f1ccc11a>\u001b[0m in \u001b[0;36m<module>\u001b[0;34m\u001b[0m\n\u001b[0;32m----> 1\u001b[0;31m \u001b[0;32mimport\u001b[0m \u001b[0masr\u001b[0m \u001b[0;32mas\u001b[0m \u001b[0mspeechrec\u001b[0m\u001b[0;34m\u001b[0m\u001b[0;34m\u001b[0m\u001b[0m\n\u001b[0m\u001b[1;32m      2\u001b[0m \u001b[0masr\u001b[0m \u001b[0;34m=\u001b[0m \u001b[0mspeechrec\u001b[0m\u001b[0;34m.\u001b[0m\u001b[0mASR\u001b[0m\u001b[0;34m(\u001b[0m\u001b[0;34m'deu'\u001b[0m\u001b[0;34m)\u001b[0m\u001b[0;34m\u001b[0m\u001b[0;34m\u001b[0m\u001b[0m\n\u001b[1;32m      3\u001b[0m \u001b[0mdf_asr\u001b[0m \u001b[0;34m=\u001b[0m \u001b[0masr\u001b[0m\u001b[0;34m.\u001b[0m\u001b[0mextract_from_index\u001b[0m\u001b[0;34m(\u001b[0m\u001b[0mdf_mld_seqs\u001b[0m\u001b[0;34m,\u001b[0m \u001b[0mtmp\u001b[0m\u001b[0;34m=\u001b[0m\u001b[0;34m'./tmp'\u001b[0m\u001b[0;34m,\u001b[0m  \u001b[0mmargin\u001b[0m\u001b[0;34m=\u001b[0m\u001b[0;36m0.2\u001b[0m\u001b[0;34m)\u001b[0m\u001b[0;34m\u001b[0m\u001b[0;34m\u001b[0m\u001b[0m\n",
      "\u001b[0;31mModuleNotFoundError\u001b[0m: No module named 'asr'"
     ]
    }
   ],
   "source": [
    "import asr as speechrec\n",
    "asr = speechrec.ASR('deu')\n",
    "df_asr = asr.extract_from_index(df_mld_seqs, tmp='./tmp',  margin=0.2)"
   ]
  },
  {
   "cell_type": "code",
   "execution_count": null,
   "id": "2e9f49d9",
   "metadata": {},
   "outputs": [],
   "source": [
    "df_mld_seqs"
   ]
  },
  {
   "cell_type": "code",
   "execution_count": null,
   "id": "8331aa4a",
   "metadata": {},
   "outputs": [],
   "source": [
    "df_asr.head()"
   ]
  },
  {
   "cell_type": "code",
   "execution_count": null,
   "id": "dbf6b6d2",
   "metadata": {},
   "outputs": [],
   "source": [
    "sys.path.append(\"./text_features\")\n",
    "\n",
    "fex = tf.PsyText(language=\"deu\")\n",
    "ling_df = pd.DataFrame()\n",
    "t_all = ''\n",
    "for t in df_asr.asr:\n",
    "    print(t)\n",
    "    t_all = t_all+' '+t\n",
    "    feat = fex.extract_from_string(t)\n",
    "    ling_df = ling_df.append(feat)"
   ]
  },
  {
   "cell_type": "code",
   "execution_count": null,
   "id": "f48b0c83",
   "metadata": {},
   "outputs": [],
   "source": [
    "ling_df.head()"
   ]
  },
  {
   "cell_type": "code",
   "execution_count": null,
   "id": "ad17be23",
   "metadata": {},
   "outputs": [],
   "source": [
    "feat = fex.extract_from_string(t_all)"
   ]
  },
  {
   "cell_type": "code",
   "execution_count": null,
   "id": "2284b84b",
   "metadata": {},
   "outputs": [],
   "source": [
    "feat"
   ]
  },
  {
   "cell_type": "code",
   "execution_count": null,
   "id": "cff101f5",
   "metadata": {},
   "outputs": [],
   "source": [
    "t_all"
   ]
  },
  {
   "cell_type": "code",
   "execution_count": null,
   "id": "bc8114ad",
   "metadata": {},
   "outputs": [],
   "source": []
  }
 ],
 "metadata": {
  "kernelspec": {
   "display_name": "Python 3",
   "language": "python",
   "name": "python3"
  },
  "language_info": {
   "codemirror_mode": {
    "name": "ipython",
    "version": 3
   },
   "file_extension": ".py",
   "mimetype": "text/x-python",
   "name": "python",
   "nbconvert_exporter": "python",
   "pygments_lexer": "ipython3",
   "version": "3.8.2"
  }
 },
 "nbformat": 4,
 "nbformat_minor": 5
}
