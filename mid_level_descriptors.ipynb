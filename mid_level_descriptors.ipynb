{
 "cells": [
  {
   "cell_type": "code",
   "execution_count": null,
   "id": "israeli-trauma",
   "metadata": {},
   "outputs": [],
   "source": [
    "import sys\n",
    "sys.path.append(\"./mld/src\")\n",
    "import midlevel_descriptors as mld"
   ]
  },
  {
   "cell_type": "code",
   "execution_count": null,
   "id": "suffering-civilization",
   "metadata": {},
   "outputs": [],
   "source": [
    "import pandas as pd\n",
    "df_bartsch = pd.read_pickle('processed/Burkhardt/Burkhardt_mdf.pkl')"
   ]
  },
  {
   "cell_type": "code",
   "execution_count": null,
   "id": "db12d61d",
   "metadata": {},
   "outputs": [],
   "source": [
    "import os\n",
    "\n",
    "df_bartsch['segmented_file'] = df_bartsch['segmented_file'].apply(lambda x: 'processed/Burkhardt/'+os.path.basename(x))"
   ]
  },
  {
   "cell_type": "code",
   "execution_count": null,
   "id": "33fd8c3c",
   "metadata": {},
   "outputs": [],
   "source": [
    "df_bartsch = df_bartsch.set_index(df_bartsch.segmented_file)"
   ]
  },
  {
   "cell_type": "code",
   "execution_count": null,
   "id": "703e66c5",
   "metadata": {},
   "outputs": [],
   "source": [
    "df_bartsch.head()"
   ]
  },
  {
   "cell_type": "code",
   "execution_count": null,
   "id": "incomplete-closure",
   "metadata": {},
   "outputs": [],
   "source": [
    "fex_mld = mld.MLD()\n",
    "df_mld_seqs = fex_mld.extract_from_index(index=df_bartsch, cache_path='./tmp/mld')"
   ]
  },
  {
   "cell_type": "code",
   "execution_count": null,
   "id": "9164d73b",
   "metadata": {},
   "outputs": [],
   "source": [
    "df_bartsch.shape"
   ]
  },
  {
   "cell_type": "code",
   "execution_count": null,
   "id": "linear-narrative",
   "metadata": {},
   "outputs": [],
   "source": [
    "df_mld_seqs.shape"
   ]
  },
  {
   "cell_type": "code",
   "execution_count": null,
   "id": "oriented-worse",
   "metadata": {},
   "outputs": [],
   "source": [
    "df_mld_seqs.head(5)"
   ]
  },
  {
   "cell_type": "code",
   "execution_count": null,
   "id": "current-redhead",
   "metadata": {},
   "outputs": [],
   "source": [
    "import asr as speechrec\n",
    "asr = speechrec.ASR('deu')\n",
    "df_asr = asr.extract_from_index(df_mld_seqs, tmp='./tmp',  margin=0.2)"
   ]
  },
  {
   "cell_type": "code",
   "execution_count": null,
   "id": "37a69af2",
   "metadata": {},
   "outputs": [],
   "source": [
    "df_mld_seqs"
   ]
  },
  {
   "cell_type": "code",
   "execution_count": null,
   "id": "69b8975a",
   "metadata": {},
   "outputs": [],
   "source": [
    "df_asr.head()"
   ]
  },
  {
   "cell_type": "code",
   "execution_count": null,
   "id": "894c94e5",
   "metadata": {},
   "outputs": [],
   "source": [
    "sys.path.append(\"./text_features\")\n",
    "import midlevel_descriptors as mld\n",
    "import text_features as tf\n",
    "fex = tf.PsyText(language=\"deu\")\n",
    "ling_df = pd.DataFrame()\n",
    "t_all = ''\n",
    "for t in df_asr.asr:\n",
    "    print(t)\n",
    "    t_all = t_all+' '+t\n",
    "    feat = fex.extract_from_string(t)\n",
    "    ling_df = ling_df.append(feat)"
   ]
  },
  {
   "cell_type": "code",
   "execution_count": null,
   "id": "83c9f0f4",
   "metadata": {},
   "outputs": [],
   "source": [
    "ling_df.head()"
   ]
  },
  {
   "cell_type": "code",
   "execution_count": null,
   "id": "b7fcf844",
   "metadata": {},
   "outputs": [],
   "source": [
    "feat = fex.extract_from_string(t_all)"
   ]
  },
  {
   "cell_type": "code",
   "execution_count": null,
   "id": "364c91ac",
   "metadata": {},
   "outputs": [],
   "source": [
    "feat"
   ]
  },
  {
   "cell_type": "code",
   "execution_count": null,
   "id": "9c5b067e",
   "metadata": {},
   "outputs": [],
   "source": [
    "t_all"
   ]
  },
  {
   "cell_type": "code",
   "execution_count": null,
   "id": "a93df553",
   "metadata": {},
   "outputs": [],
   "source": []
  }
 ],
 "metadata": {
  "kernelspec": {
   "display_name": "Python 3",
   "language": "python",
   "name": "python3"
  },
  "language_info": {
   "codemirror_mode": {
    "name": "ipython",
    "version": 3
   },
   "file_extension": ".py",
   "mimetype": "text/x-python",
   "name": "python",
   "nbconvert_exporter": "python",
   "pygments_lexer": "ipython3",
   "version": "3.8.2"
  }
 },
 "nbformat": 4,
 "nbformat_minor": 5
}
