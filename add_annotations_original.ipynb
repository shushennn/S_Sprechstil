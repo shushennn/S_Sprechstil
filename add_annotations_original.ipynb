{
 "cells": [
  {
   "cell_type": "markdown",
   "id": "a234c8e4",
   "metadata": {},
   "source": [
    "## Add annnotations"
   ]
  },
  {
   "cell_type": "markdown",
   "id": "d3aabb48",
   "metadata": {},
   "source": [
    "Add annotations to the dataframe like speaker id and age"
   ]
  },
  {
   "cell_type": "code",
   "execution_count": 21,
   "id": "26f16b03",
   "metadata": {},
   "outputs": [],
   "source": [
    "import os\n",
    "import pandas as pd"
   ]
  },
  {
   "cell_type": "code",
   "execution_count": 22,
   "id": "371a9cd4",
   "metadata": {},
   "outputs": [
    {
     "data": {
      "text/html": [
       "<div>\n",
       "<style scoped>\n",
       "    .dataframe tbody tr th:only-of-type {\n",
       "        vertical-align: middle;\n",
       "    }\n",
       "\n",
       "    .dataframe tbody tr th {\n",
       "        vertical-align: top;\n",
       "    }\n",
       "\n",
       "    .dataframe thead th {\n",
       "        text-align: right;\n",
       "    }\n",
       "</style>\n",
       "<table border=\"1\" class=\"dataframe\">\n",
       "  <thead>\n",
       "    <tr style=\"text-align: right;\">\n",
       "      <th></th>\n",
       "      <th></th>\n",
       "      <th></th>\n",
       "      <th>channel</th>\n",
       "      <th>segmented_file</th>\n",
       "    </tr>\n",
       "    <tr>\n",
       "      <th>file</th>\n",
       "      <th>start</th>\n",
       "      <th>end</th>\n",
       "      <th></th>\n",
       "      <th></th>\n",
       "    </tr>\n",
       "  </thead>\n",
       "  <tbody>\n",
       "    <tr>\n",
       "      <th>./speeches/Bartsch_Burkhardt.wav</th>\n",
       "      <th>0 days 00:00:00.220000</th>\n",
       "      <th>0 days 00:00:01.420000</th>\n",
       "      <td>0</td>\n",
       "      <td>/home/felix/data/TU/SS2021/S_Sprechstil_Andere...</td>\n",
       "    </tr>\n",
       "  </tbody>\n",
       "</table>\n",
       "</div>"
      ],
      "text/plain": [
       "                                                                                channel  \\\n",
       "file                             start                  end                               \n",
       "./speeches/Bartsch_Burkhardt.wav 0 days 00:00:00.220000 0 days 00:00:01.420000        0   \n",
       "\n",
       "                                                                                                                   segmented_file  \n",
       "file                             start                  end                                                                        \n",
       "./speeches/Bartsch_Burkhardt.wav 0 days 00:00:00.220000 0 days 00:00:01.420000  /home/felix/data/TU/SS2021/S_Sprechstil_Andere...  "
      ]
     },
     "execution_count": 22,
     "metadata": {},
     "output_type": "execute_result"
    }
   ],
   "source": [
    "df_bartsch = pd.read_pickle('processed/Burkhardt/Burkhardt_mdf.pkl')\n",
    "df_bartsch.head(1)  # show first rows"
   ]
  },
  {
   "cell_type": "code",
   "execution_count": 23,
   "id": "israeli-trauma",
   "metadata": {},
   "outputs": [
    {
     "data": {
      "text/html": [
       "<div>\n",
       "<style scoped>\n",
       "    .dataframe tbody tr th:only-of-type {\n",
       "        vertical-align: middle;\n",
       "    }\n",
       "\n",
       "    .dataframe tbody tr th {\n",
       "        vertical-align: top;\n",
       "    }\n",
       "\n",
       "    .dataframe thead th {\n",
       "        text-align: right;\n",
       "    }\n",
       "</style>\n",
       "<table border=\"1\" class=\"dataframe\">\n",
       "  <thead>\n",
       "    <tr style=\"text-align: right;\">\n",
       "      <th></th>\n",
       "    </tr>\n",
       "    <tr>\n",
       "      <th>segmented_file</th>\n",
       "    </tr>\n",
       "  </thead>\n",
       "  <tbody>\n",
       "    <tr>\n",
       "      <th>bartsch/Bartsch_Burkhardt_seg_00000000.wav</th>\n",
       "    </tr>\n",
       "  </tbody>\n",
       "</table>\n",
       "</div>"
      ],
      "text/plain": [
       "Empty DataFrame\n",
       "Columns: []\n",
       "Index: [bartsch/Bartsch_Burkhardt_seg_00000000.wav]"
      ]
     },
     "execution_count": 23,
     "metadata": {},
     "output_type": "execute_result"
    }
   ],
   "source": [
    "# add path to file\n",
    "def re_arrange_df(df, audio_dir):\n",
    "    df['segmented_file'] = df['segmented_file'].apply(lambda x: audio_dir+os.path.basename(x))\n",
    "    df = df.set_index(df.segmented_file)\n",
    "    df = df.drop(columns=['segmented_file', 'channel'])\n",
    "    return df\n",
    "df_bartsch = re_arrange_df(df_bartsch, 'bartsch/')\n",
    "df_bartsch.head(1)  # show first rows\n",
    "# df_bartsch.to_pickle('processed/Burkhardt/Burkhardt_mdf.pkl')"
   ]
  },
  {
   "cell_type": "code",
   "execution_count": null,
   "id": "6b24185b",
   "metadata": {},
   "outputs": [],
   "source": []
  },
  {
   "cell_type": "code",
   "execution_count": 24,
   "id": "a49ee13a",
   "metadata": {},
   "outputs": [],
   "source": [
    "from enum import Enum, auto\n",
    "class SPEECHTYPE(Enum):\n",
    "    acceptance= auto(), \n",
    "    debate= auto(), \n",
    "    demonstrative= auto(), # workshop or seminar where a speaker was showing \n",
    "    entertaining= auto(), # Entertaining speeches aim to amuse a crowd of people\n",
    "    eulogy= auto(),\n",
    "    explanatory= auto(), # Explanatory speeches describe a situation or particular thing. \n",
    "    farewell= auto(),\n",
    "    impromptu= auto(),\n",
    "    informative= auto(), # Informative speeches aim to educate an audience on a particular topic or message.\n",
    "    interview= auto(), \n",
    "    personal= auto(),\n",
    "    persuasive= auto(),\n",
    "    pitch= auto(),\n",
    "    preaching= auto(),\n",
    "    oratorical= auto(), # is J. F. Kennedy’s inaugural speech.\n",
    "    synthetiac= auto()"
   ]
  },
  {
   "cell_type": "code",
   "execution_count": 25,
   "id": "c0702740",
   "metadata": {},
   "outputs": [],
   "source": [
    "class GENDER(Enum):\n",
    "    FEMALE = auto(),\n",
    "    MALE = auto(),\n",
    "    DIVERS = auto(),\n",
    "class SPEAKERTYPE(Enum):\n",
    "    HUMAN = auto(),\n",
    "    SYNTH = auto()"
   ]
  },
  {
   "cell_type": "code",
   "execution_count": 26,
   "id": "a1a22ece",
   "metadata": {},
   "outputs": [],
   "source": [
    "ad ={'id':'dietmar_bartsch', \n",
    "     'gender': GENDER.MALE, \n",
    "     'speakertype': SPEAKERTYPE.HUMAN,\n",
    "     'age': 63, \n",
    "     'lang':'de-DE', \n",
    "     'speechtype':SPEECHTYPE.debate,\n",
    "     'source':'https://www.youtube.com/watch?v=frG98KtOpiI'}\n",
    "for k in ad:\n",
    "    df_bartsch[k] = ad[k]\n",
    "df_bartsch.to_pickle('speeches/bartsch.pkl')"
   ]
  },
  {
   "cell_type": "code",
   "execution_count": 27,
   "id": "7392bbd2",
   "metadata": {},
   "outputs": [
    {
     "data": {
      "text/html": [
       "<div>\n",
       "<style scoped>\n",
       "    .dataframe tbody tr th:only-of-type {\n",
       "        vertical-align: middle;\n",
       "    }\n",
       "\n",
       "    .dataframe tbody tr th {\n",
       "        vertical-align: top;\n",
       "    }\n",
       "\n",
       "    .dataframe thead th {\n",
       "        text-align: right;\n",
       "    }\n",
       "</style>\n",
       "<table border=\"1\" class=\"dataframe\">\n",
       "  <thead>\n",
       "    <tr style=\"text-align: right;\">\n",
       "      <th></th>\n",
       "      <th>id</th>\n",
       "      <th>gender</th>\n",
       "      <th>speakertype</th>\n",
       "      <th>age</th>\n",
       "      <th>lang</th>\n",
       "      <th>speechtype</th>\n",
       "      <th>source</th>\n",
       "    </tr>\n",
       "    <tr>\n",
       "      <th>segmented_file</th>\n",
       "      <th></th>\n",
       "      <th></th>\n",
       "      <th></th>\n",
       "      <th></th>\n",
       "      <th></th>\n",
       "      <th></th>\n",
       "      <th></th>\n",
       "    </tr>\n",
       "  </thead>\n",
       "  <tbody>\n",
       "    <tr>\n",
       "      <th>bartsch/Bartsch_Burkhardt_seg_00000000.wav</th>\n",
       "      <td>dietmar_bartsch</td>\n",
       "      <td>GENDER.MALE</td>\n",
       "      <td>SPEAKERTYPE.HUMAN</td>\n",
       "      <td>63</td>\n",
       "      <td>de-DE</td>\n",
       "      <td>SPEECHTYPE.debate</td>\n",
       "      <td>https://www.youtube.com/watch?v=frG98KtOpiI</td>\n",
       "    </tr>\n",
       "    <tr>\n",
       "      <th>bartsch/Bartsch_Burkhardt_seg_00000001.wav</th>\n",
       "      <td>dietmar_bartsch</td>\n",
       "      <td>GENDER.MALE</td>\n",
       "      <td>SPEAKERTYPE.HUMAN</td>\n",
       "      <td>63</td>\n",
       "      <td>de-DE</td>\n",
       "      <td>SPEECHTYPE.debate</td>\n",
       "      <td>https://www.youtube.com/watch?v=frG98KtOpiI</td>\n",
       "    </tr>\n",
       "    <tr>\n",
       "      <th>bartsch/Bartsch_Burkhardt_seg_00000002.wav</th>\n",
       "      <td>dietmar_bartsch</td>\n",
       "      <td>GENDER.MALE</td>\n",
       "      <td>SPEAKERTYPE.HUMAN</td>\n",
       "      <td>63</td>\n",
       "      <td>de-DE</td>\n",
       "      <td>SPEECHTYPE.debate</td>\n",
       "      <td>https://www.youtube.com/watch?v=frG98KtOpiI</td>\n",
       "    </tr>\n",
       "    <tr>\n",
       "      <th>bartsch/Bartsch_Burkhardt_seg_00000003.wav</th>\n",
       "      <td>dietmar_bartsch</td>\n",
       "      <td>GENDER.MALE</td>\n",
       "      <td>SPEAKERTYPE.HUMAN</td>\n",
       "      <td>63</td>\n",
       "      <td>de-DE</td>\n",
       "      <td>SPEECHTYPE.debate</td>\n",
       "      <td>https://www.youtube.com/watch?v=frG98KtOpiI</td>\n",
       "    </tr>\n",
       "    <tr>\n",
       "      <th>bartsch/Bartsch_Burkhardt_seg_00000004.wav</th>\n",
       "      <td>dietmar_bartsch</td>\n",
       "      <td>GENDER.MALE</td>\n",
       "      <td>SPEAKERTYPE.HUMAN</td>\n",
       "      <td>63</td>\n",
       "      <td>de-DE</td>\n",
       "      <td>SPEECHTYPE.debate</td>\n",
       "      <td>https://www.youtube.com/watch?v=frG98KtOpiI</td>\n",
       "    </tr>\n",
       "  </tbody>\n",
       "</table>\n",
       "</div>"
      ],
      "text/plain": [
       "                                                         id       gender  \\\n",
       "segmented_file                                                             \n",
       "bartsch/Bartsch_Burkhardt_seg_00000000.wav  dietmar_bartsch  GENDER.MALE   \n",
       "bartsch/Bartsch_Burkhardt_seg_00000001.wav  dietmar_bartsch  GENDER.MALE   \n",
       "bartsch/Bartsch_Burkhardt_seg_00000002.wav  dietmar_bartsch  GENDER.MALE   \n",
       "bartsch/Bartsch_Burkhardt_seg_00000003.wav  dietmar_bartsch  GENDER.MALE   \n",
       "bartsch/Bartsch_Burkhardt_seg_00000004.wav  dietmar_bartsch  GENDER.MALE   \n",
       "\n",
       "                                                  speakertype  age   lang  \\\n",
       "segmented_file                                                              \n",
       "bartsch/Bartsch_Burkhardt_seg_00000000.wav  SPEAKERTYPE.HUMAN   63  de-DE   \n",
       "bartsch/Bartsch_Burkhardt_seg_00000001.wav  SPEAKERTYPE.HUMAN   63  de-DE   \n",
       "bartsch/Bartsch_Burkhardt_seg_00000002.wav  SPEAKERTYPE.HUMAN   63  de-DE   \n",
       "bartsch/Bartsch_Burkhardt_seg_00000003.wav  SPEAKERTYPE.HUMAN   63  de-DE   \n",
       "bartsch/Bartsch_Burkhardt_seg_00000004.wav  SPEAKERTYPE.HUMAN   63  de-DE   \n",
       "\n",
       "                                                   speechtype  \\\n",
       "segmented_file                                                  \n",
       "bartsch/Bartsch_Burkhardt_seg_00000000.wav  SPEECHTYPE.debate   \n",
       "bartsch/Bartsch_Burkhardt_seg_00000001.wav  SPEECHTYPE.debate   \n",
       "bartsch/Bartsch_Burkhardt_seg_00000002.wav  SPEECHTYPE.debate   \n",
       "bartsch/Bartsch_Burkhardt_seg_00000003.wav  SPEECHTYPE.debate   \n",
       "bartsch/Bartsch_Burkhardt_seg_00000004.wav  SPEECHTYPE.debate   \n",
       "\n",
       "                                                                                 source  \n",
       "segmented_file                                                                           \n",
       "bartsch/Bartsch_Burkhardt_seg_00000000.wav  https://www.youtube.com/watch?v=frG98KtOpiI  \n",
       "bartsch/Bartsch_Burkhardt_seg_00000001.wav  https://www.youtube.com/watch?v=frG98KtOpiI  \n",
       "bartsch/Bartsch_Burkhardt_seg_00000002.wav  https://www.youtube.com/watch?v=frG98KtOpiI  \n",
       "bartsch/Bartsch_Burkhardt_seg_00000003.wav  https://www.youtube.com/watch?v=frG98KtOpiI  \n",
       "bartsch/Bartsch_Burkhardt_seg_00000004.wav  https://www.youtube.com/watch?v=frG98KtOpiI  "
      ]
     },
     "execution_count": 27,
     "metadata": {},
     "output_type": "execute_result"
    }
   ],
   "source": [
    "df_bartsch.head()"
   ]
  },
  {
   "cell_type": "code",
   "execution_count": null,
   "id": "0ee8aeb7",
   "metadata": {},
   "outputs": [],
   "source": []
  },
  {
   "cell_type": "code",
   "execution_count": null,
   "id": "f51e7839",
   "metadata": {},
   "outputs": [],
   "source": []
  }
 ],
 "metadata": {
  "kernelspec": {
   "display_name": "Python 3",
   "language": "python",
   "name": "python3"
  },
  "language_info": {
   "codemirror_mode": {
    "name": "ipython",
    "version": 3
   },
   "file_extension": ".py",
   "mimetype": "text/x-python",
   "name": "python",
   "nbconvert_exporter": "python",
   "pygments_lexer": "ipython3",
   "version": "3.8.2"
  }
 },
 "nbformat": 4,
 "nbformat_minor": 5
}
