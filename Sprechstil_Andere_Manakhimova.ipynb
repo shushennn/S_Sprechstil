{
 "cells": [
  {
   "cell_type": "markdown",
   "id": "4bd11b66",
   "metadata": {},
   "source": [
    "# Individuelle Sprechstile"
   ]
  },
  {
   "cell_type": "code",
   "execution_count": 5,
   "id": "8c046144",
   "metadata": {},
   "outputs": [
    {
     "data": {
      "text/plain": [
       "'/Users/shushanamanakhimova/s_sprechstil/venv'"
      ]
     },
     "execution_count": 5,
     "metadata": {},
     "output_type": "execute_result"
    }
   ],
   "source": [
    "pwd"
   ]
  },
  {
   "cell_type": "code",
   "execution_count": 7,
   "id": "858d7e7b",
   "metadata": {},
   "outputs": [
    {
     "name": "stdout",
     "output_type": "stream",
     "text": [
      "MLKDream_Shushana.wav               \u001b[34minclude\u001b[m\u001b[m\r\n",
      "Sprechstil_Andere_Manakhimova.ipynb \u001b[34mlib\u001b[m\u001b[m\r\n",
      "Untitled.ipynb                      pyvenv.cfg\r\n",
      "\u001b[34mbin\u001b[m\u001b[m                                 \u001b[34mshare\u001b[m\u001b[m\r\n",
      "\u001b[34metc\u001b[m\u001b[m\r\n"
     ]
    }
   ],
   "source": [
    "!ls"
   ]
  },
  {
   "cell_type": "code",
   "execution_count": 9,
   "id": "73b6be86",
   "metadata": {},
   "outputs": [
    {
     "name": "stdout",
     "output_type": "stream",
     "text": [
      "mkdir: segments: File exists\r\n"
     ]
    }
   ],
   "source": [
    "!mkdir segments"
   ]
  },
  {
   "cell_type": "code",
   "execution_count": 10,
   "id": "0c6036c0",
   "metadata": {},
   "outputs": [
    {
     "name": "stdout",
     "output_type": "stream",
     "text": [
      "MLKDream_Shushana.wav               \u001b[34minclude\u001b[m\u001b[m\r\n",
      "Sprechstil_Andere_Manakhimova.ipynb \u001b[34mlib\u001b[m\u001b[m\r\n",
      "Untitled.ipynb                      pyvenv.cfg\r\n",
      "\u001b[34mbin\u001b[m\u001b[m                                 \u001b[34msegments\u001b[m\u001b[m\r\n",
      "\u001b[34metc\u001b[m\u001b[m                                 \u001b[34mshare\u001b[m\u001b[m\r\n"
     ]
    }
   ],
   "source": [
    "!ls"
   ]
  },
  {
   "cell_type": "code",
   "execution_count": 11,
   "id": "907ab4a6",
   "metadata": {},
   "outputs": [
    {
     "data": {
      "text/plain": [
       "'/Users/shushanamanakhimova/s_sprechstil/venv'"
      ]
     },
     "execution_count": 11,
     "metadata": {},
     "output_type": "execute_result"
    }
   ],
   "source": [
    "pwd"
   ]
  },
  {
   "cell_type": "code",
   "execution_count": 15,
   "id": "36c2f672",
   "metadata": {},
   "outputs": [],
   "source": [
    "!mv ~/Desktop/Shushana ~/s_sprechstil/venv"
   ]
  },
  {
   "cell_type": "code",
   "execution_count": 24,
   "id": "744a6cb8",
   "metadata": {},
   "outputs": [
    {
     "name": "stdout",
     "output_type": "stream",
     "text": [
      "\u001b[31mShushana/MK_Shushana_seg_00000000.wav\u001b[m\u001b[m \u001b[31mShushana/MK_Shushana_seg_00000039.wav\u001b[m\u001b[m\r\n",
      "\u001b[31mShushana/MK_Shushana_seg_00000001.wav\u001b[m\u001b[m \u001b[31mShushana/MK_Shushana_seg_00000040.wav\u001b[m\u001b[m\r\n",
      "\u001b[31mShushana/MK_Shushana_seg_00000002.wav\u001b[m\u001b[m \u001b[31mShushana/MK_Shushana_seg_00000041.wav\u001b[m\u001b[m\r\n",
      "\u001b[31mShushana/MK_Shushana_seg_00000003.wav\u001b[m\u001b[m \u001b[31mShushana/MK_Shushana_seg_00000042.wav\u001b[m\u001b[m\r\n",
      "\u001b[31mShushana/MK_Shushana_seg_00000004.wav\u001b[m\u001b[m \u001b[31mShushana/MK_Shushana_seg_00000043.wav\u001b[m\u001b[m\r\n",
      "\u001b[31mShushana/MK_Shushana_seg_00000005.wav\u001b[m\u001b[m \u001b[31mShushana/MK_Shushana_seg_00000044.wav\u001b[m\u001b[m\r\n",
      "\u001b[31mShushana/MK_Shushana_seg_00000006.wav\u001b[m\u001b[m \u001b[31mShushana/MK_Shushana_seg_00000045.wav\u001b[m\u001b[m\r\n",
      "\u001b[31mShushana/MK_Shushana_seg_00000007.wav\u001b[m\u001b[m \u001b[31mShushana/MK_Shushana_seg_00000046.wav\u001b[m\u001b[m\r\n",
      "\u001b[31mShushana/MK_Shushana_seg_00000008.wav\u001b[m\u001b[m \u001b[31mShushana/MK_Shushana_seg_00000047.wav\u001b[m\u001b[m\r\n",
      "\u001b[31mShushana/MK_Shushana_seg_00000009.wav\u001b[m\u001b[m \u001b[31mShushana/MK_Shushana_seg_00000048.wav\u001b[m\u001b[m\r\n",
      "\u001b[31mShushana/MK_Shushana_seg_00000010.wav\u001b[m\u001b[m \u001b[31mShushana/MK_Shushana_seg_00000049.wav\u001b[m\u001b[m\r\n",
      "\u001b[31mShushana/MK_Shushana_seg_00000011.wav\u001b[m\u001b[m \u001b[31mShushana/MK_Shushana_seg_00000050.wav\u001b[m\u001b[m\r\n",
      "\u001b[31mShushana/MK_Shushana_seg_00000012.wav\u001b[m\u001b[m \u001b[31mShushana/MK_Shushana_seg_00000051.wav\u001b[m\u001b[m\r\n",
      "\u001b[31mShushana/MK_Shushana_seg_00000013.wav\u001b[m\u001b[m \u001b[31mShushana/MK_Shushana_seg_00000052.wav\u001b[m\u001b[m\r\n",
      "\u001b[31mShushana/MK_Shushana_seg_00000014.wav\u001b[m\u001b[m \u001b[31mShushana/MK_Shushana_seg_00000053.wav\u001b[m\u001b[m\r\n",
      "\u001b[31mShushana/MK_Shushana_seg_00000015.wav\u001b[m\u001b[m \u001b[31mShushana/MK_Shushana_seg_00000054.wav\u001b[m\u001b[m\r\n",
      "\u001b[31mShushana/MK_Shushana_seg_00000016.wav\u001b[m\u001b[m \u001b[31mShushana/MK_Shushana_seg_00000055.wav\u001b[m\u001b[m\r\n",
      "\u001b[31mShushana/MK_Shushana_seg_00000017.wav\u001b[m\u001b[m \u001b[31mShushana/MK_Shushana_seg_00000056.wav\u001b[m\u001b[m\r\n",
      "\u001b[31mShushana/MK_Shushana_seg_00000018.wav\u001b[m\u001b[m \u001b[31mShushana/MK_Shushana_seg_00000057.wav\u001b[m\u001b[m\r\n",
      "\u001b[31mShushana/MK_Shushana_seg_00000019.wav\u001b[m\u001b[m \u001b[31mShushana/MK_Shushana_seg_00000058.wav\u001b[m\u001b[m\r\n",
      "\u001b[31mShushana/MK_Shushana_seg_00000020.wav\u001b[m\u001b[m \u001b[31mShushana/MK_Shushana_seg_00000059.wav\u001b[m\u001b[m\r\n",
      "\u001b[31mShushana/MK_Shushana_seg_00000021.wav\u001b[m\u001b[m \u001b[31mShushana/MK_Shushana_seg_00000060.wav\u001b[m\u001b[m\r\n",
      "\u001b[31mShushana/MK_Shushana_seg_00000022.wav\u001b[m\u001b[m \u001b[31mShushana/MK_Shushana_seg_00000061.wav\u001b[m\u001b[m\r\n",
      "\u001b[31mShushana/MK_Shushana_seg_00000023.wav\u001b[m\u001b[m \u001b[31mShushana/MK_Shushana_seg_00000062.wav\u001b[m\u001b[m\r\n",
      "\u001b[31mShushana/MK_Shushana_seg_00000024.wav\u001b[m\u001b[m \u001b[31mShushana/MK_Shushana_seg_00000063.wav\u001b[m\u001b[m\r\n",
      "\u001b[31mShushana/MK_Shushana_seg_00000025.wav\u001b[m\u001b[m \u001b[31mShushana/MK_Shushana_seg_00000064.wav\u001b[m\u001b[m\r\n",
      "\u001b[31mShushana/MK_Shushana_seg_00000026.wav\u001b[m\u001b[m \u001b[31mShushana/MK_Shushana_seg_00000065.wav\u001b[m\u001b[m\r\n",
      "\u001b[31mShushana/MK_Shushana_seg_00000027.wav\u001b[m\u001b[m \u001b[31mShushana/MK_Shushana_seg_00000066.wav\u001b[m\u001b[m\r\n",
      "\u001b[31mShushana/MK_Shushana_seg_00000028.wav\u001b[m\u001b[m \u001b[31mShushana/MK_Shushana_seg_00000067.wav\u001b[m\u001b[m\r\n",
      "\u001b[31mShushana/MK_Shushana_seg_00000029.wav\u001b[m\u001b[m \u001b[31mShushana/MK_Shushana_seg_00000068.wav\u001b[m\u001b[m\r\n",
      "\u001b[31mShushana/MK_Shushana_seg_00000030.wav\u001b[m\u001b[m \u001b[31mShushana/MK_Shushana_seg_00000069.wav\u001b[m\u001b[m\r\n",
      "\u001b[31mShushana/MK_Shushana_seg_00000031.wav\u001b[m\u001b[m \u001b[31mShushana/MK_Shushana_seg_00000070.wav\u001b[m\u001b[m\r\n",
      "\u001b[31mShushana/MK_Shushana_seg_00000032.wav\u001b[m\u001b[m \u001b[31mShushana/MK_Shushana_seg_00000071.wav\u001b[m\u001b[m\r\n",
      "\u001b[31mShushana/MK_Shushana_seg_00000033.wav\u001b[m\u001b[m \u001b[31mShushana/MK_Shushana_seg_00000072.wav\u001b[m\u001b[m\r\n",
      "\u001b[31mShushana/MK_Shushana_seg_00000034.wav\u001b[m\u001b[m \u001b[31mShushana/MK_Shushana_seg_00000073.wav\u001b[m\u001b[m\r\n",
      "\u001b[31mShushana/MK_Shushana_seg_00000035.wav\u001b[m\u001b[m \u001b[31mShushana/MK_Shushana_seg_00000074.wav\u001b[m\u001b[m\r\n",
      "\u001b[31mShushana/MK_Shushana_seg_00000036.wav\u001b[m\u001b[m \u001b[31mShushana/MK_Shushana_seg_00000075.wav\u001b[m\u001b[m\r\n",
      "\u001b[31mShushana/MK_Shushana_seg_00000037.wav\u001b[m\u001b[m \u001b[31mShushana/MK_Shushana_seg_00000076.wav\u001b[m\u001b[m\r\n",
      "\u001b[31mShushana/MK_Shushana_seg_00000038.wav\u001b[m\u001b[m\r\n"
     ]
    }
   ],
   "source": [
    "!ls Shushana/*.wav"
   ]
  },
  {
   "cell_type": "code",
   "execution_count": 25,
   "id": "974ecbdf",
   "metadata": {},
   "outputs": [],
   "source": [
    "mv Shushana/*.wav segments/"
   ]
  },
  {
   "cell_type": "code",
   "execution_count": 26,
   "id": "ce7706bc",
   "metadata": {},
   "outputs": [
    {
     "name": "stdout",
     "output_type": "stream",
     "text": [
      "\u001b[31mMK_Shushana_seg_00000000.wav\u001b[m\u001b[m* \u001b[31mMK_Shushana_seg_00000039.wav\u001b[m\u001b[m*\r\n",
      "\u001b[31mMK_Shushana_seg_00000001.wav\u001b[m\u001b[m* \u001b[31mMK_Shushana_seg_00000040.wav\u001b[m\u001b[m*\r\n",
      "\u001b[31mMK_Shushana_seg_00000002.wav\u001b[m\u001b[m* \u001b[31mMK_Shushana_seg_00000041.wav\u001b[m\u001b[m*\r\n",
      "\u001b[31mMK_Shushana_seg_00000003.wav\u001b[m\u001b[m* \u001b[31mMK_Shushana_seg_00000042.wav\u001b[m\u001b[m*\r\n",
      "\u001b[31mMK_Shushana_seg_00000004.wav\u001b[m\u001b[m* \u001b[31mMK_Shushana_seg_00000043.wav\u001b[m\u001b[m*\r\n",
      "\u001b[31mMK_Shushana_seg_00000005.wav\u001b[m\u001b[m* \u001b[31mMK_Shushana_seg_00000044.wav\u001b[m\u001b[m*\r\n",
      "\u001b[31mMK_Shushana_seg_00000006.wav\u001b[m\u001b[m* \u001b[31mMK_Shushana_seg_00000045.wav\u001b[m\u001b[m*\r\n",
      "\u001b[31mMK_Shushana_seg_00000007.wav\u001b[m\u001b[m* \u001b[31mMK_Shushana_seg_00000046.wav\u001b[m\u001b[m*\r\n",
      "\u001b[31mMK_Shushana_seg_00000008.wav\u001b[m\u001b[m* \u001b[31mMK_Shushana_seg_00000047.wav\u001b[m\u001b[m*\r\n",
      "\u001b[31mMK_Shushana_seg_00000009.wav\u001b[m\u001b[m* \u001b[31mMK_Shushana_seg_00000048.wav\u001b[m\u001b[m*\r\n",
      "\u001b[31mMK_Shushana_seg_00000010.wav\u001b[m\u001b[m* \u001b[31mMK_Shushana_seg_00000049.wav\u001b[m\u001b[m*\r\n",
      "\u001b[31mMK_Shushana_seg_00000011.wav\u001b[m\u001b[m* \u001b[31mMK_Shushana_seg_00000050.wav\u001b[m\u001b[m*\r\n",
      "\u001b[31mMK_Shushana_seg_00000012.wav\u001b[m\u001b[m* \u001b[31mMK_Shushana_seg_00000051.wav\u001b[m\u001b[m*\r\n",
      "\u001b[31mMK_Shushana_seg_00000013.wav\u001b[m\u001b[m* \u001b[31mMK_Shushana_seg_00000052.wav\u001b[m\u001b[m*\r\n",
      "\u001b[31mMK_Shushana_seg_00000014.wav\u001b[m\u001b[m* \u001b[31mMK_Shushana_seg_00000053.wav\u001b[m\u001b[m*\r\n",
      "\u001b[31mMK_Shushana_seg_00000015.wav\u001b[m\u001b[m* \u001b[31mMK_Shushana_seg_00000054.wav\u001b[m\u001b[m*\r\n",
      "\u001b[31mMK_Shushana_seg_00000016.wav\u001b[m\u001b[m* \u001b[31mMK_Shushana_seg_00000055.wav\u001b[m\u001b[m*\r\n",
      "\u001b[31mMK_Shushana_seg_00000017.wav\u001b[m\u001b[m* \u001b[31mMK_Shushana_seg_00000056.wav\u001b[m\u001b[m*\r\n",
      "\u001b[31mMK_Shushana_seg_00000018.wav\u001b[m\u001b[m* \u001b[31mMK_Shushana_seg_00000057.wav\u001b[m\u001b[m*\r\n",
      "\u001b[31mMK_Shushana_seg_00000019.wav\u001b[m\u001b[m* \u001b[31mMK_Shushana_seg_00000058.wav\u001b[m\u001b[m*\r\n",
      "\u001b[31mMK_Shushana_seg_00000020.wav\u001b[m\u001b[m* \u001b[31mMK_Shushana_seg_00000059.wav\u001b[m\u001b[m*\r\n",
      "\u001b[31mMK_Shushana_seg_00000021.wav\u001b[m\u001b[m* \u001b[31mMK_Shushana_seg_00000060.wav\u001b[m\u001b[m*\r\n",
      "\u001b[31mMK_Shushana_seg_00000022.wav\u001b[m\u001b[m* \u001b[31mMK_Shushana_seg_00000061.wav\u001b[m\u001b[m*\r\n",
      "\u001b[31mMK_Shushana_seg_00000023.wav\u001b[m\u001b[m* \u001b[31mMK_Shushana_seg_00000062.wav\u001b[m\u001b[m*\r\n",
      "\u001b[31mMK_Shushana_seg_00000024.wav\u001b[m\u001b[m* \u001b[31mMK_Shushana_seg_00000063.wav\u001b[m\u001b[m*\r\n",
      "\u001b[31mMK_Shushana_seg_00000025.wav\u001b[m\u001b[m* \u001b[31mMK_Shushana_seg_00000064.wav\u001b[m\u001b[m*\r\n",
      "\u001b[31mMK_Shushana_seg_00000026.wav\u001b[m\u001b[m* \u001b[31mMK_Shushana_seg_00000065.wav\u001b[m\u001b[m*\r\n",
      "\u001b[31mMK_Shushana_seg_00000027.wav\u001b[m\u001b[m* \u001b[31mMK_Shushana_seg_00000066.wav\u001b[m\u001b[m*\r\n",
      "\u001b[31mMK_Shushana_seg_00000028.wav\u001b[m\u001b[m* \u001b[31mMK_Shushana_seg_00000067.wav\u001b[m\u001b[m*\r\n",
      "\u001b[31mMK_Shushana_seg_00000029.wav\u001b[m\u001b[m* \u001b[31mMK_Shushana_seg_00000068.wav\u001b[m\u001b[m*\r\n",
      "\u001b[31mMK_Shushana_seg_00000030.wav\u001b[m\u001b[m* \u001b[31mMK_Shushana_seg_00000069.wav\u001b[m\u001b[m*\r\n",
      "\u001b[31mMK_Shushana_seg_00000031.wav\u001b[m\u001b[m* \u001b[31mMK_Shushana_seg_00000070.wav\u001b[m\u001b[m*\r\n",
      "\u001b[31mMK_Shushana_seg_00000032.wav\u001b[m\u001b[m* \u001b[31mMK_Shushana_seg_00000071.wav\u001b[m\u001b[m*\r\n",
      "\u001b[31mMK_Shushana_seg_00000033.wav\u001b[m\u001b[m* \u001b[31mMK_Shushana_seg_00000072.wav\u001b[m\u001b[m*\r\n",
      "\u001b[31mMK_Shushana_seg_00000034.wav\u001b[m\u001b[m* \u001b[31mMK_Shushana_seg_00000073.wav\u001b[m\u001b[m*\r\n",
      "\u001b[31mMK_Shushana_seg_00000035.wav\u001b[m\u001b[m* \u001b[31mMK_Shushana_seg_00000074.wav\u001b[m\u001b[m*\r\n",
      "\u001b[31mMK_Shushana_seg_00000036.wav\u001b[m\u001b[m* \u001b[31mMK_Shushana_seg_00000075.wav\u001b[m\u001b[m*\r\n",
      "\u001b[31mMK_Shushana_seg_00000037.wav\u001b[m\u001b[m* \u001b[31mMK_Shushana_seg_00000076.wav\u001b[m\u001b[m*\r\n",
      "\u001b[31mMK_Shushana_seg_00000038.wav\u001b[m\u001b[m*\r\n"
     ]
    }
   ],
   "source": [
    "ls segments"
   ]
  },
  {
   "cell_type": "code",
   "execution_count": 27,
   "id": "c3949eeb",
   "metadata": {},
   "outputs": [
    {
     "data": {
      "text/plain": [
       "'/Users/shushanamanakhimova/s_sprechstil/venv'"
      ]
     },
     "execution_count": 27,
     "metadata": {},
     "output_type": "execute_result"
    }
   ],
   "source": [
    "pwd"
   ]
  },
  {
   "cell_type": "code",
   "execution_count": 29,
   "id": "811e78d8",
   "metadata": {},
   "outputs": [],
   "source": [
    "mv Shushana/*.zip ."
   ]
  },
  {
   "cell_type": "code",
   "execution_count": 30,
   "id": "9da65962",
   "metadata": {},
   "outputs": [
    {
     "name": "stdout",
     "output_type": "stream",
     "text": [
      "rm: Shushana/: is a directory\r\n"
     ]
    }
   ],
   "source": [
    "rm Shushana/"
   ]
  },
  {
   "cell_type": "code",
   "execution_count": 41,
   "id": "54911e00",
   "metadata": {},
   "outputs": [],
   "source": [
    "!rm -r Shushana/"
   ]
  },
  {
   "cell_type": "code",
   "execution_count": 38,
   "id": "ae93adcc",
   "metadata": {},
   "outputs": [
    {
     "name": "stdout",
     "output_type": "stream",
     "text": [
      "rm: Shushana/: is a directory\r\n"
     ]
    }
   ],
   "source": [
    "rm Shushana/"
   ]
  },
  {
   "cell_type": "markdown",
   "id": "61599911",
   "metadata": {},
   "source": [
    "rmdir Shushana"
   ]
  },
  {
   "cell_type": "code",
   "execution_count": null,
   "id": "30eafa55",
   "metadata": {},
   "outputs": [],
   "source": []
  }
 ],
 "metadata": {
  "kernelspec": {
   "display_name": "Python 3",
   "language": "python",
   "name": "python3"
  },
  "language_info": {
   "codemirror_mode": {
    "name": "ipython",
    "version": 3
   },
   "file_extension": ".py",
   "mimetype": "text/x-python",
   "name": "python",
   "nbconvert_exporter": "python",
   "pygments_lexer": "ipython3",
   "version": "3.8.2"
  }
 },
 "nbformat": 4,
 "nbformat_minor": 5
}
