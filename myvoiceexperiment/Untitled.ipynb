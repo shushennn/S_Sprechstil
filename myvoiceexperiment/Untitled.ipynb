{
 "cells": [
  {
   "cell_type": "code",
   "execution_count": 3,
   "id": "8476db39",
   "metadata": {},
   "outputs": [],
   "source": [
    "mysp=__import__(\"my-voice-analysis\")"
   ]
  },
  {
   "cell_type": "code",
   "execution_count": null,
   "id": "e3e7db25",
   "metadata": {},
   "outputs": [],
   "source": [
    "!pwd"
   ]
  },
  {
   "cell_type": "code",
   "execution_count": 11,
   "id": "f0a256e2",
   "metadata": {},
   "outputs": [
    {
     "name": "stdout",
     "output_type": "stream",
     "text": [
      "[]\n",
      "Voice not recognized\n"
     ]
    }
   ],
   "source": [
    "p=\"MK_Shushana\" # Audio File title\n",
    "c=r\"/Users/shushanamanakhimova/S_Sprechstil/myvoiceexperiment\" # Path to the Audio_File directory (Python 3.7)\n",
    "mysp.myspgend(p,c)"
   ]
  },
  {
   "cell_type": "code",
   "execution_count": 9,
   "id": "9a402c08",
   "metadata": {},
   "outputs": [
    {
     "name": "stdout",
     "output_type": "stream",
     "text": [
      "Try again the sound of the audio was not clear\n"
     ]
    }
   ],
   "source": [
    "mysp.mysptotal(p,c)"
   ]
  },
  {
   "cell_type": "code",
   "execution_count": 8,
   "id": "805c0866",
   "metadata": {},
   "outputs": [
    {
     "name": "stdout",
     "output_type": "stream",
     "text": [
      "[]\n",
      "Voice not recognized\n"
     ]
    }
   ],
   "source": [
    "mysp.myspgend(p,c)"
   ]
  },
  {
   "cell_type": "code",
   "execution_count": null,
   "id": "182ec7d8",
   "metadata": {},
   "outputs": [],
   "source": [
    "!pip list"
   ]
  },
  {
   "cell_type": "code",
   "execution_count": 5,
   "id": "783cb8a6",
   "metadata": {},
   "outputs": [
    {
     "name": "stdout",
     "output_type": "stream",
     "text": [
      "Requirement already satisfied: my-voice-analysis in /Users/shushanamanakhimova/S_Sprechstil/venv/lib/python3.8/site-packages (0.7)\n",
      "Requirement already satisfied: praat-parselmouth>=0.3.2 in /Users/shushanamanakhimova/S_Sprechstil/venv/lib/python3.8/site-packages (from my-voice-analysis) (0.4.0)\n",
      "Requirement already satisfied: scipy>=1.1.0 in /Users/shushanamanakhimova/S_Sprechstil/venv/lib/python3.8/site-packages (from my-voice-analysis) (1.6.3)\n",
      "Requirement already satisfied: pandas>=0.23.4 in /Users/shushanamanakhimova/S_Sprechstil/venv/lib/python3.8/site-packages (from my-voice-analysis) (1.2.4)\n",
      "Requirement already satisfied: numpy>=1.15.2 in /Users/shushanamanakhimova/S_Sprechstil/venv/lib/python3.8/site-packages (from my-voice-analysis) (1.20.3)\n",
      "Requirement already satisfied: pytz>=2017.3 in /Users/shushanamanakhimova/S_Sprechstil/venv/lib/python3.8/site-packages (from pandas>=0.23.4->my-voice-analysis) (2021.1)\n",
      "Requirement already satisfied: python-dateutil>=2.7.3 in /Users/shushanamanakhimova/S_Sprechstil/venv/lib/python3.8/site-packages (from pandas>=0.23.4->my-voice-analysis) (2.8.1)\n",
      "Requirement already satisfied: six>=1.5 in /Users/shushanamanakhimova/S_Sprechstil/venv/lib/python3.8/site-packages (from python-dateutil>=2.7.3->pandas>=0.23.4->my-voice-analysis) (1.16.0)\n",
      "\u001b[33mWARNING: You are using pip version 21.1.1; however, version 21.1.2 is available.\n",
      "You should consider upgrading via the '/Users/shushanamanakhimova/S_Sprechstil/venv/bin/python3 -m pip install --upgrade pip' command.\u001b[0m\n"
     ]
    }
   ],
   "source": [
    "!pip install my-voice-analysis"
   ]
  },
  {
   "cell_type": "code",
   "execution_count": null,
   "id": "ddacd5b2",
   "metadata": {},
   "outputs": [],
   "source": []
  }
 ],
 "metadata": {
  "kernelspec": {
   "display_name": "Python 3",
   "language": "python",
   "name": "python3"
  },
  "language_info": {
   "codemirror_mode": {
    "name": "ipython",
    "version": 3
   },
   "file_extension": ".py",
   "mimetype": "text/x-python",
   "name": "python",
   "nbconvert_exporter": "python",
   "pygments_lexer": "ipython3",
   "version": "3.8.2"
  }
 },
 "nbformat": 4,
 "nbformat_minor": 5
}
